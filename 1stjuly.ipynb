{
 "cells": [
  {
   "cell_type": "markdown",
   "metadata": {},
   "source": [
    "# Day Objectives:\n",
    "### Practice on Income Dataset\n",
    "#### Define functions for the following data points\n",
    "- Combined Average Income of all states from 2005 to 2013\n",
    "- State with highest average income in the last three years\n",
    "- State with lowest average income from 2007 to 2010(inclusive)\n",
    "- Print the list of all states in the same line with average income less than California\n",
    "- Print the names of states based on descending order of income in the year 2009\n",
    "- State with the lowest recorded income from 2005 to 2013"
   ]
  },
  {
   "cell_type": "code",
   "execution_count": 1,
   "metadata": {},
   "outputs": [
    {
     "data": {
      "text/plain": [
       "48923"
      ]
     },
     "execution_count": 1,
     "metadata": {},
     "output_type": "execute_result"
    }
   ],
   "source": [
    "# Average income of all states from 2005 to 2013\n",
    "filepath = 'Datafiles/Income.csv'\n",
    "import pandas as pd\n",
    "incomedf = pd.read_csv(filepath)\n",
    "def averageincome(df):\n",
    "    sum = 0\n",
    "    count = 0\n",
    "    for item in df.values:\n",
    "        for i in range(3,len(item)):\n",
    "            sum = sum+int(item[i])\n",
    "            count = count+1\n",
    "            avg = sum//count\n",
    "    return avg\n",
    "averageincome(incomedf)    "
   ]
  },
  {
   "cell_type": "code",
   "execution_count": 5,
   "metadata": {},
   "outputs": [
    {
     "name": "stdout",
     "output_type": "stream",
     "text": [
      "Alabama 42478\n",
      "Alaska 60738\n",
      "Arizona 48755\n",
      "Arkansas 40079\n",
      "California 55971\n"
     ]
    },
    {
     "data": {
      "text/plain": [
       "'Alaska'"
      ]
     },
     "execution_count": 5,
     "metadata": {},
     "output_type": "execute_result"
    }
   ],
   "source": [
    "# State with highest average income in the last three years\n",
    "\n",
    "filepath = 'Datafiles/Income.csv'\n",
    "import pandas as pd\n",
    "incomedf = pd.read_csv(filepath)\n",
    "def highestAverageIncome(df):\n",
    "    highestAvgIncome = 0\n",
    "    avg = 0\n",
    "    state = ''\n",
    "    for row in df.values:\n",
    "        avg = (row[-3:].mean())\n",
    "        a = m.floor(avg)\n",
    "        print(row[1],a)\n",
    "        if a > highestAvgIncome:\n",
    "            highestAvgIncome = a\n",
    "            state = row[1]\n",
    "    return state            \n",
    "highestAverageIncome(incomedf)"
   ]
  },
  {
   "cell_type": "code",
   "execution_count": 6,
   "metadata": {},
   "outputs": [
    {
     "name": "stdout",
     "output_type": "stream",
     "text": [
      "Alabama 41900.25\n",
      "Alaska 61608.5\n",
      "Arizona 46691.0\n",
      "Arkansas 38876.5\n",
      "California 55791.25\n"
     ]
    },
    {
     "data": {
      "text/plain": [
       "'Arkansas'"
      ]
     },
     "execution_count": 6,
     "metadata": {},
     "output_type": "execute_result"
    }
   ],
   "source": [
    "# State with lowest average income from 2007 to 2010(inclusive)\n",
    "\n",
    "def getClIndex(df,cl_key):\n",
    "    for i in range(len(df.columns)):\n",
    "        if df.columns[i] == cl_key:\n",
    "            cl_index = i\n",
    "    return cl_index\n",
    "        \n",
    "def lowestAvgIncome(df,st_year,ed_year):\n",
    "    lowest_avg_income = 100000\n",
    "    avg = 0\n",
    "    state = ''\n",
    "    st_cl_index = getClIndex(df,st_year)\n",
    "    ed_cl_index = getClIndex(df,ed_year)\n",
    "    for row in df.values:\n",
    "        avg = ((row[st_cl_index:ed_cl_index+1]).mean())\n",
    "        print(row[1],avg)\n",
    "        if avg < lowest_avg_income:\n",
    "            lowest_avg_income = avg\n",
    "            state = row[1]\n",
    "    return state\n",
    "          \n",
    "lowestAvgIncome(incomedf,'2007','2010')"
   ]
  },
  {
   "cell_type": "code",
   "execution_count": 7,
   "metadata": {},
   "outputs": [
    {
     "name": "stdout",
     "output_type": "stream",
     "text": [
      "Alabama Arizona Arkansas "
     ]
    }
   ],
   "source": [
    "# Print the list of all states in the same line with average income less than California\n",
    "def getRowIndex(df,row_key):\n",
    "    for i in range(len(df.values)):\n",
    "        if df.values[i][1] == row_key:\n",
    "            row_index = i\n",
    "    return row_index\n",
    "\n",
    "def allStatesLessCalifornia(df):\n",
    "    row_index = getRowIndex(df,'California')\n",
    "    avg = 0\n",
    "    california_avg = df.values[row_index][2:].mean()\n",
    "    #print(california_avg)\n",
    "    for row in df.values:\n",
    "        avg = row[2:].mean()\n",
    "        #print(row[1],avg)\n",
    "        if avg < california_avg:\n",
    "            print(row[1],end = ' ')\n",
    "        \n",
    "allStatesLessCalifornia(incomedf)"
   ]
  },
  {
   "cell_type": "code",
   "execution_count": 10,
   "metadata": {},
   "outputs": [
    {
     "name": "stdout",
     "output_type": "stream",
     "text": [
      "[('Alaska', 61604), ('California', 56134), ('Arizona', 45739), ('Alabama', 39980), ('Arkansas', 36538)]\n",
      "Alaska\n",
      "California\n",
      "Arizona\n",
      "Alabama\n",
      "Arkansas\n"
     ]
    }
   ],
   "source": [
    "# Print the names of states based on descending order of income in the year 2009\n",
    "\n",
    "def statesincomedecending(df):\n",
    "    cl_index = getClIndex(df,'2009')\n",
    "    income = {}\n",
    "    for row in df.values:\n",
    "        income[row[1]] = row[cl_index]\n",
    "    income = sorted(income.items(),key=lambda kv: kv[1],reverse = True)\n",
    "    print(income)\n",
    "    for item in income:\n",
    "        print(item[0])\n",
    "statesincomedecending(incomedf)"
   ]
  },
  {
   "cell_type": "code",
   "execution_count": 9,
   "metadata": {},
   "outputs": [
    {
     "name": "stdout",
     "output_type": "stream",
     "text": [
      "2 10\n",
      "Alabama 37150\n",
      "Alaska 55891\n",
      "Arizona 45245\n",
      "Arkansas 36538\n",
      "California 51755\n"
     ]
    },
    {
     "data": {
      "text/plain": [
       "'Arkansas'"
      ]
     },
     "execution_count": 9,
     "metadata": {},
     "output_type": "execute_result"
    }
   ],
   "source": [
    "# State with the lowest recorded income from 2005 to 2013\n",
    "\n",
    "def lowerrecordedincome(df,st_year,ed_year):\n",
    "    st_year_index = getClIndex(df,st_year)\n",
    "    ed_year_index = getClIndex(df,ed_year)\n",
    "    min_income = 100000\n",
    "    state = ''\n",
    "    print(st_year_index,ed_year_index)\n",
    "    for row in df.values:\n",
    "        income_list = row[st_year_index:ed_year_index+1]\n",
    "        print(row[1],min(income_list))\n",
    "        if min(income_list) < min_income:\n",
    "            min_income = min(income_list)\n",
    "            state = row[1]\n",
    "    return state\n",
    "lowerrecordedincome(incomedf,'2005','2013')"
   ]
  },
  {
   "cell_type": "code",
   "execution_count": null,
   "metadata": {},
   "outputs": [],
   "source": []
  }
 ],
 "metadata": {
  "kernelspec": {
   "display_name": "Python 3",
   "language": "python",
   "name": "python3"
  },
  "language_info": {
   "codemirror_mode": {
    "name": "ipython",
    "version": 3
   },
   "file_extension": ".py",
   "mimetype": "text/x-python",
   "name": "python",
   "nbconvert_exporter": "python",
   "pygments_lexer": "ipython3",
   "version": "3.7.3"
  }
 },
 "nbformat": 4,
 "nbformat_minor": 2
}
