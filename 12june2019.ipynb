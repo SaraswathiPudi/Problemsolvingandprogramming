{
 "cells": [
  {
   "cell_type": "markdown",
   "metadata": {},
   "source": [
    "### Markdown basics\n",
    "* **bold** <br>\n",
    "* *italic* <br>\n",
    "* ***ib*** \n",
    "* normal text\n",
    "     * sublist 1\n",
    "     * sublist 2\n",
    "     \n",
    "     \n",
    " \n",
    "1. Ordered list element1\n",
    "2. Ordered list element2\n",
    "\n",
    "- .[].option 1\n",
    "- .[].option 2\n",
    "- .[x].option 3\n",
    "I get 10 times more traffic from .[google][1] than from .[yahoo].[2] or [msn][3]\n",
    "\n",
    ".[1].https:/www.google.com/\n",
    ".[2].https://search.yahoo.com/\n",
    "'printf(\"hello markdown\")\n",
    "\n",
    "[Jupyter.logo](jupyter.png)\n",
    "<img src=\"jupyter.png\" center=\"true\" style=\"float:left\">\n"
   ]
  },
  {
   "cell_type": "markdown",
   "metadata": {},
   "source": [
    "Python Basics"
   ]
  },
  {
   "cell_type": "markdown",
   "metadata": {},
   "source": [
    "python version 3.7\n",
    "\n",
    "\n",
    "- Scripting\n",
    "- Object oriented\n",
    "- functional"
   ]
  },
  {
   "cell_type": "code",
   "execution_count": 1,
   "metadata": {},
   "outputs": [
    {
     "name": "stdout",
     "output_type": "stream",
     "text": [
      "good afternoon !\n",
      "hello python\n"
     ]
    }
   ],
   "source": [
    "# python comments\n",
    "\n",
    "print(\"good afternoon !\") # Basic output\n",
    "print(\"hello python\")"
   ]
  },
  {
   "cell_type": "code",
   "execution_count": null,
   "metadata": {},
   "outputs": [],
   "source": []
  },
  {
   "cell_type": "markdown",
   "metadata": {},
   "source": [
    "# Assignment"
   ]
  },
  {
   "cell_type": "code",
   "execution_count": 20,
   "metadata": {},
   "outputs": [
    {
     "name": "stdout",
     "output_type": "stream",
     "text": [
      "123 234 345\n"
     ]
    }
   ],
   "source": [
    "n1 = 123456 #single variable assignment\n",
    "\n",
    "n2 = n3 = n4 = n1 # multi variable assignment of the same value\n",
    "\n",
    "a, b, c = 123, 234, 345 # multi variable assignment with different values\n",
    "\n",
    "print(a,b,c)"
   ]
  },
  {
   "cell_type": "code",
   "execution_count": null,
   "metadata": {},
   "outputs": [],
   "source": []
  },
  {
   "cell_type": "markdown",
   "metadata": {},
   "source": [
    "### Data Types\n",
    "\n",
    "- int\n",
    "- float\n",
    "- string\n",
    "- double"
   ]
  },
  {
   "cell_type": "code",
   "execution_count": 29,
   "metadata": {},
   "outputs": [
    {
     "data": {
      "text/plain": [
       "12.0"
      ]
     },
     "execution_count": 29,
     "metadata": {},
     "output_type": "execute_result"
    }
   ],
   "source": [
    "type(a)\n",
    "s1 = \"python\"\n",
    "type(s1)\n",
    "\n",
    "f1 = 12.345\n",
    "type(f1)\n",
    "int(f1)\n",
    "float(str(int(f1)))"
   ]
  },
  {
   "cell_type": "markdown",
   "metadata": {},
   "source": [
    "### Arthimetic operations"
   ]
  },
  {
   "cell_type": "markdown",
   "metadata": {},
   "source": [
    "- +\n",
    "- -\n",
    "- *\n",
    "- /\n",
    "- %\n",
    "- **"
   ]
  },
  {
   "cell_type": "code",
   "execution_count": 32,
   "metadata": {},
   "outputs": [
    {
     "data": {
      "text/plain": [
       "2591324761570269379684162575096592032887893007199487150223779261826383433820633404765378810096415820247597019224046239471033872893902147607835893874497591747073159495960733314111879584522804096170632364855722865594395618201325526770344249625290348052260042773689456021645397297514069213140139825461495851981494623143751254073901229670182819122873499064317547985047740435653059330093689898781022907899971559757524939455969516102106951124539505907738562709661949516271926265710737731115252631145915745339085534512166532931837763071156821914984903366904830610739912863149847380097868950132763258302543888012604779746330671866615569530472320110951689653595386961639728128377290098303847533903828306716661907388810524553505293423687097807619778897693647778456353170929026470411692036776912851958133622689661417813825941906105567436725325363828607109705414989976008070625536908999135938515943493404361493152771345649983714334313847685957387472481493301848824428193681311150061812526236625133301371829042187735336909742507016991871787281064281549939221292576007328966677879000161277713566839324146285883223810495111076928911826444662826872822048320434386229724884118720406723144629105218389365277015725498391341841627621172816022863585579530533295198796220188757156893642574089883092893124593355298948981559865630770820721700178833555688885352472266166723625895062379408914724128869776523103547673487957829310068407392693892594043418510307972881987711724905554669919431371668830142598052165355215494166327434369331116082763521588387502654423753144487427072649253677409046406812364600070336172979333510570106132347246577286035689862141102088530171235479372642118009651569043058988204873733905657460075361420316081525938730187257816194205019047325625047170679732630140651963914680165950155376290362601679365487530205387224197556088695849017552047359334109076433897983192124660598938110953455508442581314346107522664681146287815739322117837308571879064962438929676477915346781055223941236032860641950268320286836897329976457093150448825702758690567566243165126164603015836781878041819053821054598983660635207996416134403279692990959993847335833981776940662048389315375976877538474502574146568163310274934188569896016496967707370377025898261123828840760517793351589033231925821036062130093395891824788003848000180478854315507112550074141140145284590872335554851649969941860539808816859284335990704703558355765375397550191516917919784345186034105762836880209934813671411977028168127747379017295408523794930216996937218773933159357114867942306526581438593532586289716648487233395344972095195385952698248142864975847289576932962964399841225211802850411811099896095899389036799546189940910033807824920690523650911252141849906824238312397218889155405721819078958778806409087176731572110401572187027261007581757762829819804917404953428708584773055208432065034314188147903425750242160564977288603995420138718236205368536729464547435898868372536316822459876764250224653625570782803936927223873164497782375358102697497906533626757423287232999145445210703334964190168379343337715279711607371213190850861889476253118000760355329016132282681987254489192490248096320464105032237632411300992285831024873911332317545253476962073823153542399486448913406998714993769380077524813112002962189217560664898957714061544706508799199002711783216930311161340057881888462817884355754322671608224901368964429844704196812073166263796671161258705614303175301256633610942145587651485879182655940896288033632419484294015254426000110777698416111077378204402043442511709231971850623600256966932744886060436702792233227584282479868435647837014635676767517829239108904250049952509085377144221755696688265663961560528900842032637080207672384690702462555237940457702577219227915311332170346076440304783499938922321256695124022950023049535349899575396732614366766095742918355691931786565567612858812182328453845306400447596165935342457058053831096767844160968169183010073220017916831396472182073985403083456444261801703043661323122914672613746024033668094038192090508042181815063999885348818085581306548072735878266870813528629870123480106919434637048021203200474612099508910042666371200537708613348697903796415404716167486621172735727158832524722343928547024658179618479804527222183650358795685622239188507351133961765602534500477983143343118672641736127976006701635575555944415843907892317581940028383869282542407055431005605440652121060769192357330811920284075983785894407044527888228839180478332099162797571659102354449033038003506134630806400261092764435275379335063012042313471426064832839608175091682260080490137003868129222539623487387487350927150754475348287916579975452265130333272734659618450009923266300829454859873314928247821912554334507946933995974776338020167818220972393526912573295533538396043598734734603354966631208734747967508894133118004680400079362515625553191856927277081288340280408466663575940823749477146722865746385502779000563031497307369054346911779001161328877708646809359699285108691418105223101940203780481159732572905622760205661914669716302384053829976728559728406133996464164756289380720478172081"
      ]
     },
     "execution_count": 32,
     "metadata": {},
     "output_type": "execute_result"
    }
   ],
   "source": [
    "n1 % 11\n",
    "\n",
    "n3 = n2 **  123456\n",
    "\n",
    "type(n3)\n",
    "len(str(n3))\n",
    "\n",
    "atoms = 10 ** 83\n",
    "len(str(atoms))\n",
    "type(str(atoms))\n",
    "\n",
    "122321 ** 999"
   ]
  },
  {
   "cell_type": "code",
   "execution_count": null,
   "metadata": {},
   "outputs": [],
   "source": []
  },
  {
   "cell_type": "markdown",
   "metadata": {},
   "source": [
    "# Conditionals"
   ]
  },
  {
   "cell_type": "code",
   "execution_count": 37,
   "metadata": {},
   "outputs": [
    {
     "name": "stdout",
     "output_type": "stream",
     "text": [
      "true\n"
     ]
    }
   ],
   "source": [
    " if atoms < 10 ** 96:\n",
    "    print(\"true\")\n",
    "else:\n",
    "    print(\"false\")\n",
    "    "
   ]
  },
  {
   "cell_type": "code",
   "execution_count": null,
   "metadata": {},
   "outputs": [],
   "source": [
    "# check if a number is even\n",
    "\n",
    "n = 123\n",
    "if n % 2 == 0:\n",
    "    print(\"even\")\n",
    "else:\n",
    "    print(\"odd\")"
   ]
  },
  {
   "cell_type": "code",
   "execution_count": 1,
   "metadata": {},
   "outputs": [
    {
     "name": "stdout",
     "output_type": "stream",
     "text": [
      "enter the first number3247\n",
      "enter the second number4356\n",
      "enter the third number2135\n",
      "4356 is the greatest\n"
     ]
    }
   ],
   "source": [
    "# find the greteast of 3 numbers\n",
    "\n",
    "n1 = input(\"enter the first number\")\n",
    "n2 = input(\"enter the second number\")\n",
    "n3 = input(\"enter the third number\")\n",
    "\n",
    "if n1 > n2 and n1 > n3:\n",
    "    print(n1, \"is the greatest\")\n",
    "elif n2 > n3:\n",
    "    print(n2, \"is the greatest\")\n",
    "else:\n",
    "    print(n3,\"is the greatest\")"
   ]
  },
  {
   "cell_type": "markdown",
   "metadata": {},
   "source": [
    "# string slicing"
   ]
  },
  {
   "cell_type": "code",
   "execution_count": 29,
   "metadata": {},
   "outputs": [
    {
     "data": {
      "text/plain": [
       "'t'"
      ]
     },
     "execution_count": 29,
     "metadata": {},
     "output_type": "execute_result"
    }
   ],
   "source": [
    "s1 = \"pythonprogram\"\n",
    "\n",
    "s1[0] # accessing the first character in a string\n",
    "s1[1] # accessing the second character in a string\n",
    "s1[len(s1)-1] # accessing the last character in a string\n",
    "\n",
    "s1[-1] # another way of accessing the last character\n",
    "\n",
    "s1[-2] # accessing the penultimate character of a string\n",
    "\n",
    "s1[0:2] # accessing the first two characters in a string\n",
    "\n",
    "s1[-2:] # accessing the last two characters in a string\n",
    "#s1[4:]\n",
    "\n",
    "s1[1:-1] # accessing all characters expect first and last character\n",
    "s1[2:-1] # accessing the middle character in a string\n",
    "s1[len(s1)-3]# accessing the middle character in a string\n",
    "\n",
    "s1[-3:] # accessing the first character of a string\n",
    "\n",
    "s1[2] # accessing the penultimate character of a string"
   ]
  },
  {
   "cell_type": "code",
   "execution_count": null,
   "metadata": {},
   "outputs": [],
   "source": []
  }
 ],
 "metadata": {
  "kernelspec": {
   "display_name": "Python 3",
   "language": "python",
   "name": "python3"
  },
  "language_info": {
   "codemirror_mode": {
    "name": "ipython",
    "version": 3
   },
   "file_extension": ".py",
   "mimetype": "text/x-python",
   "name": "python",
   "nbconvert_exporter": "python",
   "pygments_lexer": "ipython3",
   "version": "3.7.3"
  }
 },
 "nbformat": 4,
 "nbformat_minor": 2
}
