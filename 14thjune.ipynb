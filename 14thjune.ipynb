{
 "cells": [
  {
   "cell_type": "markdown",
   "metadata": {},
   "source": [
    "### problem solving and programming in python day-14\n",
    "\n",
    "## day-14 june\n",
    "\n",
    "### day objectives\n",
    "\n"
   ]
  },
  {
   "cell_type": "code",
   "execution_count": null,
   "metadata": {},
   "outputs": [],
   "source": []
  },
  {
   "cell_type": "markdown",
   "metadata": {},
   "source": [
    "## Python data structures\n",
    "\n",
    "### lists"
   ]
  },
  {
   "cell_type": "code",
   "execution_count": 22,
   "metadata": {},
   "outputs": [
    {
     "data": {
      "text/plain": [
       "411.0"
      ]
     },
     "execution_count": 22,
     "metadata": {},
     "output_type": "execute_result"
    }
   ],
   "source": [
    "li = [123, 978, 654]\n",
    "\n",
    "li #access the entire list\n",
    "\n",
    "li[1] #access an element with index in a list\n",
    "\n",
    "li[1:] #access all element from second element to last element\n",
    "\n",
    "li = li[::-1] # reversing list elements and reassining the last elements\n",
    "\n",
    "li\n",
    "\n",
    "li = li[::-1]\n",
    "\n",
    "li[::2] # accessing even index elements\n",
    "\n",
    "li[1::2]\n",
    "\n",
    "#lists can be accessed, manipulated in two different ways\n",
    "          # direct referencing - [index]\n",
    "          # indirect referncing - through functions\n",
    "\n",
    "li.append(345) # adding an element to end of the list\n",
    "\n",
    "li.insert(1, 234)#adding an element at a particular list\n",
    "\n",
    "li.sort() # sort elements in ascending order\n",
    "li.pop() # remove the last element in list\n",
    "li\n",
    "\n",
    "li.pop(1) # remove an element at a particular index\n",
    "\n",
    "li2 = [234, 456, 789]\n",
    "\n",
    "li.extend(li2) # merge list 2 into list 1\n",
    "\n",
    "sum(li) # sum of all elements in a list\n",
    "max(li) # maximum element in a list\n",
    "len(li) # number of elements in a list\n",
    "\n",
    "\n",
    "sum(li)/len(li) # average of list elements\n",
    "sum(li[::2])/len(li[::2]) # average of all alternate elements\n"
   ]
  },
  {
   "cell_type": "code",
   "execution_count": 28,
   "metadata": {},
   "outputs": [
    {
     "data": {
      "text/plain": [
       "654"
      ]
     },
     "execution_count": 28,
     "metadata": {},
     "output_type": "execute_result"
    }
   ],
   "source": [
    "# function to identify the second largest element in a list\n",
    "      # sort the data and select the second last element\n",
    "      # sort the data in reverse order, and select the second \n",
    "      # remove the max element and then get the max of the new list   \n",
    "def secondlargest(li):\n",
    "    li.sort()\n",
    "    return li[-2]\n",
    "secondlargest(li)\n",
    "    \n"
   ]
  },
  {
   "cell_type": "code",
   "execution_count": 36,
   "metadata": {},
   "outputs": [
    {
     "data": {
      "text/plain": [
       "345"
      ]
     },
     "execution_count": 36,
     "metadata": {},
     "output_type": "execute_result"
    }
   ],
   "source": [
    "# function that returns the nth largest\n",
    "def genericlargest(li, n):\n",
    "    li.sort()\n",
    "    return li[-n]\n",
    "genericlargest(li,4)\n",
    "\n",
    "    \n",
    "    \n"
   ]
  },
  {
   "cell_type": "code",
   "execution_count": 37,
   "metadata": {},
   "outputs": [
    {
     "name": "stdout",
     "output_type": "stream",
     "text": [
      "[123, 234, 345, 456, 654, 789]\n"
     ]
    }
   ],
   "source": [
    "print(li)"
   ]
  },
  {
   "cell_type": "code",
   "execution_count": 43,
   "metadata": {},
   "outputs": [
    {
     "data": {
      "text/plain": [
       "-1"
      ]
     },
     "execution_count": 43,
     "metadata": {},
     "output_type": "execute_result"
    }
   ],
   "source": [
    "# function to search for data in a list\n",
    "# search for the list of return the  index of the key and return -1 in the key\n",
    "def linearsearch(li,key):\n",
    "    for index in range(0, len(li)):\n",
    "        if li[index] == key:\n",
    "            return index\n",
    "    return -1\n",
    "\n",
    "def linearsearch2(li, key):\n",
    "    for element in li:\n",
    "        if element == key:\n",
    "            return li.index(element)\n",
    "        return -1\n",
    "    \n",
    "def linearsearch3(li, key):\n",
    "    if key in li:\n",
    "        return li.index(key)\n",
    "    return -1\n",
    "    \n",
    "    \n",
    "linearsearch(li,756)"
   ]
  },
  {
   "cell_type": "code",
   "execution_count": 52,
   "metadata": {},
   "outputs": [
    {
     "data": {
      "text/plain": [
       "2"
      ]
     },
     "execution_count": 52,
     "metadata": {},
     "output_type": "execute_result"
    }
   ],
   "source": [
    "# function to count the occurances of a character in a string\n",
    "# \"python programming\",m ->2\n",
    "def countcharoccurances(s,c):\n",
    "    count = 0\n",
    "    for ch in s:\n",
    "        if ch == c:\n",
    "            count += 1\n",
    "    return count\n",
    "\n",
    "def countcharoccurances2(s,c):\n",
    "    return s.count(c)\n",
    "countcharoccurances2(\"pythonprogramming\", 'p')\n",
    "\n",
    "# function to find the number of occurances of a character in a substring\n",
    "# \"abcabcddcba\",\"ab\"  ->2\n",
    "\n",
    "def charoccurances(s, sub):\n",
    "    sub = 0\n",
    "    for ch in s:\n",
    "        if ch == sub:\n",
    "            "
   ]
  },
  {
   "cell_type": "code",
   "execution_count": null,
   "metadata": {},
   "outputs": [],
   "source": []
  }
 ],
 "metadata": {
  "kernelspec": {
   "display_name": "Python 3",
   "language": "python",
   "name": "python3"
  },
  "language_info": {
   "codemirror_mode": {
    "name": "ipython",
    "version": 3
   },
   "file_extension": ".py",
   "mimetype": "text/x-python",
   "name": "python",
   "nbconvert_exporter": "python",
   "pygments_lexer": "ipython3",
   "version": "3.7.3"
  }
 },
 "nbformat": 4,
 "nbformat_minor": 2
}
