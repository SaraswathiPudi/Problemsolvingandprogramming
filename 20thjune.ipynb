{
 "cells": [
  {
   "cell_type": "markdown",
   "metadata": {},
   "source": [
    "# Day objectives\n",
    "\n",
    "\n",
    "- Regular expressions\n",
    "   -  constructing  the regular expression for various use cases\n",
    "   -  Regular expressions module and related in python\n",
    "   - Improving the contacts applications with name and phone number validations using regular expressions\n",
    "- File handling\n",
    "  - Text files\n",
    "  - upgrading the contacts applications to store contact information in a text file"
   ]
  },
  {
   "cell_type": "markdown",
   "metadata": {},
   "source": [
    "### Regular Expressions\n",
    "\n",
    " - pattern macthing\n",
    " - symoblic notation of a pattern\n",
    "   - pattern : formate which repeats\n",
    "   - pattern(re) represents the set of all values strings matches that pattern\n",
    "- .[0-9]. -> any digit \n",
    "- .[a-z] -> any lower case alphabet\n",
    "- .[2468]. -> all single digit multiples of 2\n",
    "- ^.[0-9].{1}$ -> only single digit number\n",
    "- ^.[0-9].{2}$ -> only 2 digit numbers\n",
    "- .[0-9].*0$  -> all multiples of 10\n",
    "- ^([1-9][0-9]*[05])|([5])$ -> all mutiples of 5\n",
    "- ^[1-9][0-9]{9}$  -> all 10 digit numbers\n",
    "-  [w] [o] [r] [d] or (word)  ->search for a word\n",
    "-  6[6-9][0-9]{9}$|^[0][6-9][0-9]{9}$ -> validating phone number(india)(strat with 9876 followed by 9 digits)\n",
    "\n",
    "- ^[0-9a-z][0-9a-z_.]{4,15}[0-9a-z][@][a-z0-9]{3,18}[.][a-z]{2,4}$   -> email validation(username@domain.extention)\n",
    "      - username\n",
    "          - length of user name : [6,15]\n",
    "          - no special characters other than_.\n",
    "          - should not begin and end with _.\n",
    "          - character set : all digits lower case and alphabet\n",
    "      - domain\n",
    "          - length of domain : [3,15]\n",
    "          - no special characters \n",
    "          - character set :  lowercaseall digits and alphabet\n",
    "      - extention\n",
    "          - length of extention : [2,4]\n",
    "          - no special characters\n",
    "          - character set : lowercase alphabet\n",
    "\n",
    "\n",
    " - ^[a]...[z]$ -> any string of length  5 that strats with 'a' ends with 'z'\n",
    " - ^[a]..*[z]$ -> any string of any length that "
   ]
  },
  {
   "cell_type": "code",
   "execution_count": null,
   "metadata": {},
   "outputs": [],
   "source": []
  },
  {
   "cell_type": "code",
   "execution_count": 8,
   "metadata": {},
   "outputs": [
    {
     "data": {
      "text/plain": [
       "True"
      ]
     },
     "execution_count": 8,
     "metadata": {},
     "output_type": "execute_result"
    }
   ],
   "source": [
    "# function to validate a phone number\n",
    "import re\n",
    "\n",
    "def phonenumbervalidator(number):\n",
    "    pattern = '^[0-9a-z][0-9a-z_.]{4,15}[0-9a-z][@][a-z0-9]{3,18}[.][a-z]{2,4}$'\n",
    "    if re.match(pattern,str(number)):\n",
    "        return True\n",
    "    return False\n",
    "       \n",
    "phonenumbervalidator(943687829)\n",
    "\n",
    "def emailvalidator(email):\n",
    "    pattern = \"^[0-9a-z][0-9a-z_.]{4,15}[0-9a-z][@][a-z0-9]{3,18}[.][a-z]{2,4}$\"\n",
    "    if re.match(pattern,email):\n",
    "        return True\n",
    "    return False\n",
    "emailvalidator(\"saraswathi@gmail.com\")"
   ]
  },
  {
   "cell_type": "code",
   "execution_count": 3,
   "metadata": {},
   "outputs": [
    {
     "name": "stdout",
     "output_type": "stream",
     "text": [
      "contact name1 added\n",
      "contact name1 already exists\n"
     ]
    }
   ],
   "source": [
    "contacts = {\"maha\":[9458535353,\"maha88@gmail.com\"],\"sanju\":[4549535929,\"sanju452@gmail.com\"],\"santhu\":[2459403554,\"santhu3459@gmail.com\"]}\n",
    "def addcontact(name, phone):\n",
    "    #verify that the contact doesnt already exist\n",
    "    if name not in contacts and phonenumbervalidator:\n",
    "        contacts[name] = phone\n",
    "        print(\"contact %s added\" % name)\n",
    "    if name in contacts:\n",
    "        print(\"contact %s already exists\" % name)\n",
    "    elif not phonenumbervalidator(phone):\n",
    "        print(\"phone number is valid\")\n",
    "    return\n",
    "addcontact(\"name1\",\"1234567098\")\n",
    "        "
   ]
  },
  {
   "cell_type": "code",
   "execution_count": 6,
   "metadata": {},
   "outputs": [
    {
     "name": "stdout",
     "output_type": "stream",
     "text": [
      "name already exists.\n"
     ]
    }
   ],
   "source": [
    "contacts = {\"maha\":[9458535353,\"maha88@gmail.com\"],\"sanju\":[4549535929,\"sanju452@gmail.com\"],\"santhu\":[2459403554,\"santhu3459@gmail.com\"]}\n",
    "def addcontacts(name,phone,email):\n",
    "    if name not in contacts:\n",
    "        print(name,\"already exists.\")\n",
    "    else:\n",
    "        if not phonenumbervalidator(phone):\n",
    "            print(\"invalid phone number\")\n",
    "            return\n",
    "        if not emailvalidator(email):\n",
    "            print(\"invalid email address\")\n",
    "            return\n",
    "        newcontact = []\n",
    "        newcontact.append(phone)\n",
    "        newcontact.append(email)\n",
    "        contacts[name] = newcontact\n",
    "        print(name,\"added successfully\")\n",
    "    return\n",
    "addcontacts(\"name\",1234567098,\"saraswathi@gmail.com\")\n",
    "       "
   ]
  },
  {
   "cell_type": "code",
   "execution_count": 7,
   "metadata": {},
   "outputs": [
    {
     "name": "stdout",
     "output_type": "stream",
     "text": [
      "maha \n",
      " phone: 9458535353 \n",
      " email id: maha88@gmail.com\n",
      "sanju \n",
      " phone: 4549535929 \n",
      " email id: sanju452@gmail.com\n",
      "santhu \n",
      " phone: 2459403554 \n",
      " email id: santhu3459@gmail.com\n"
     ]
    }
   ],
   "source": [
    "def listcontacts():\n",
    "    for contact,info in contacts.items():\n",
    "        print(contact, \"\\n\",\"phone:\" , info[0], \"\\n\", \"email id:\",info[1])\n",
    "    return\n",
    "listcontacts()"
   ]
  },
  {
   "cell_type": "code",
   "execution_count": null,
   "metadata": {},
   "outputs": [],
   "source": [
    "contcts ={\"name1:\"}"
   ]
  },
  {
   "cell_type": "code",
   "execution_count": 6,
   "metadata": {},
   "outputs": [
    {
     "name": "stdout",
     "output_type": "stream",
     "text": [
      "name10 does not exist \n"
     ]
    }
   ],
   "source": [
    "contacts = {}\n",
    "def searchcontacts(name):\n",
    "    if name in contacts:\n",
    "        print(name)\n",
    "        print(\"phone :\", contacts[name][0])\n",
    "        print(\"email\", \":\", contacts[name][1])\n",
    "    else:\n",
    "        print(\"%s does not exist \" % name)\n",
    "    return\n",
    "searchcontacts(\"name10\")"
   ]
  },
  {
   "cell_type": "code",
   "execution_count": null,
   "metadata": {},
   "outputs": [],
   "source": [
    "def listcontacts(phone):\n",
    "    if phone in contacts:\n",
    "        print(\"contact %s added\" % phone)\n",
    "    else:\n",
    "        print(\"contact %s already exists\" % phone)\n",
    "    return\n",
    "listcontacts(\"845639243\")\n",
    "        "
   ]
  },
  {
   "cell_type": "code",
   "execution_count": 9,
   "metadata": {},
   "outputs": [
    {
     "name": "stdout",
     "output_type": "stream",
     "text": [
      "3 contacts added successfully\n"
     ]
    },
    {
     "data": {
      "text/plain": [
       "{'maha': [9458535353, 'maha88@gmail.com'],\n",
       " 'sanju': [4549535929, 'sanju452@gmail.com'],\n",
       " 'santhu': [2459403554, 'santhu3459@gmail.com']}"
      ]
     },
     "execution_count": 9,
     "metadata": {},
     "output_type": "execute_result"
    }
   ],
   "source": [
    "# new contacts is given as a dictionary\n",
    "# merge new contacts with existing contacts\n",
    "contacts = {}\n",
    "def importcontacts(newcontact):\n",
    "    contacts.update(newcontacts)\n",
    "    print(len(newcontacts.keys()),\"contacts added successfully\")\n",
    "    return\n",
    "newcontacts = {\"maha\":[9458535353,\"maha88@gmail.com\"],\"sanju\":[4549535929,\"sanju452@gmail.com\"],\"santhu\":[2459403554,\"santhu3459@gmail.com\"]}\n",
    "importcontacts(newcontacts)\n",
    "contacts"
   ]
  },
  {
   "cell_type": "code",
   "execution_count": 8,
   "metadata": {},
   "outputs": [
    {
     "data": {
      "text/plain": [
       "<function __main__.listContacts()>"
      ]
     },
     "execution_count": 8,
     "metadata": {},
     "output_type": "execute_result"
    }
   ],
   "source": [
    "def listContacts():\n",
    "    for name, phone in contacts.items():\n",
    "        print(name, phone)\n",
    "    return()\n",
    "listContacts"
   ]
  },
  {
   "cell_type": "code",
   "execution_count": null,
   "metadata": {},
   "outputs": [],
   "source": [
    "# function to edit contact information"
   ]
  },
  {
   "cell_type": "code",
   "execution_count": null,
   "metadata": {},
   "outputs": [],
   "source": []
  },
  {
   "cell_type": "markdown",
   "metadata": {},
   "source": [
    "### File Handling in Python\n",
    "\n",
    "File - Document containing information resinding on the permanent storage\n",
    "Types - Text, pdf, csv etc\n",
    "\n",
    "File I/O -Channelling I/O data to files\n",
    "Default I/O channels - keyboard / screen\n",
    "\n",
    "Change I/O channel to files for reading and writing \n",
    "\n",
    "Read a file - input from a file\n",
    "Write to a file - output to a file\n",
    "\n",
    "Read / write  file - open(filename,mode)"
   ]
  },
  {
   "cell_type": "code",
   "execution_count": 11,
   "metadata": {},
   "outputs": [
    {
     "name": "stdout",
     "output_type": "stream",
     "text": [
      "gyftfyg\n",
      "jhybh\n",
      "ijnugy"
     ]
    }
   ],
   "source": [
    "# function to read a file\n",
    "\n",
    "def readfile(filename):\n",
    "    f = open(filename, 'r')\n",
    "    filedata = f.read()\n",
    "    f.close()\n",
    "    return filedata\n",
    "filename = 'Datafiles/data.txt'\n",
    "filedata = readfile(filename)\n",
    "#for line in filedata.split('\\n'):\n",
    "#    print(line)\n",
    "def printfiledatalines(filename):\n",
    "    f = open(filename,'r')\n",
    "    for line in f:\n",
    "        print(line, end='')\n",
    "        \n",
    "    return\n",
    "printfiledatalines(filename)"
   ]
  },
  {
   "cell_type": "code",
   "execution_count": 6,
   "metadata": {},
   "outputs": [],
   "source": [
    "# function to write data into a file\n",
    "\n",
    "def writeintofile(filename,filedata):\n",
    "    with open(filename, 'w') as f:\n",
    "        f.write(filedata)\n",
    "    return \n",
    "filename = 'Datafiles/data.txt'\n",
    "writeintofile(filename, \"new data\\n\")"
   ]
  },
  {
   "cell_type": "code",
   "execution_count": 15,
   "metadata": {},
   "outputs": [],
   "source": [
    "# function to append data to a file\n",
    "\n",
    "def appenddatatofile(filename,filedata):\n",
    "    with open(filename, 'a') as f:\n",
    "        f.write(filedata)\n",
    "    return\n",
    "filedata = \"line2/nline3\"\n",
    "appenddatatofile(filename,filedata)"
   ]
  },
  {
   "cell_type": "code",
   "execution_count": null,
   "metadata": {},
   "outputs": [],
   "source": []
  },
  {
   "cell_type": "code",
   "execution_count": null,
   "metadata": {},
   "outputs": [],
   "source": []
  },
  {
   "cell_type": "code",
   "execution_count": 11,
   "metadata": {},
   "outputs": [
    {
     "name": "stdout",
     "output_type": "stream",
     "text": [
      "13X357-22\n",
      "valid\n"
     ]
    }
   ],
   "source": [
    "def innocentPeople(s):\n",
    "    if((int(a[0]+a[1])%2==0) and (int(a[3]+a[4])%2==0) and (int(a[4]+a[5])%2==0) and (int(a[7]+a[8])%2==0) and a[6]=='-'):\n",
    "        if(a[2]=='A' or a[2]=='E'or a[2]=='I' or a[2]=='O' or a[2]=='U' or a[2]=='Y'):\n",
    "            print(\"invalid\")\n",
    "    else:\n",
    "        print(\"valid\")\n",
    "s=input()\n",
    "a=list(s)\n",
    "l=len(s)\n",
    "innocentPeople(s)"
   ]
  },
  {
   "cell_type": "code",
   "execution_count": null,
   "metadata": {},
   "outputs": [],
   "source": [
    "contacts = {\"name\":[9477824574,\"name1@ytewiu.yxt\"],\"name2\":[9545875492,\"name2@ytewiu.yxt\"]}\n",
    "def addcontacts(name)"
   ]
  },
  {
   "cell_type": "code",
   "execution_count": null,
   "metadata": {},
   "outputs": [],
   "source": []
  }
 ],
 "metadata": {
  "kernelspec": {
   "display_name": "Python 3",
   "language": "python",
   "name": "python3"
  },
  "language_info": {
   "codemirror_mode": {
    "name": "ipython",
    "version": 3
   },
   "file_extension": ".py",
   "mimetype": "text/x-python",
   "name": "python",
   "nbconvert_exporter": "python",
   "pygments_lexer": "ipython3",
   "version": "3.7.3"
  }
 },
 "nbformat": 4,
 "nbformat_minor": 2
}
