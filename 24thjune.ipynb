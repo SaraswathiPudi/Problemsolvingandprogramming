{
 "cells": [
  {
   "cell_type": "code",
   "execution_count": null,
   "metadata": {},
   "outputs": [],
   "source": [
    "#contacts application\n",
    "\n",
    "# find and replace application\n",
    "    # Count the total number of occurances of a word\n",
    "    # If word is existing \n",
    "    # Replace all occurances of a word with another word\n",
    "    \n",
    "# Marks analysis application\n",
    "    # Generate a marks file for n students\n",
    "    # Input : marks text file - each line contains marks of one student\n",
    "    # Generates a report with the following information\n",
    "        # class average\n",
    "        # % of students passed\n",
    "        # % of failed students\n",
    "        # higest mark frequency\n",
    "        # lowest mark frequency"
   ]
  },
  {
   "cell_type": "code",
   "execution_count": null,
   "metadata": {},
   "outputs": [],
   "source": [
    "# function to generate marks data for n students\n",
    "from random import randint\n",
    "def generatemarks(n, lb, ub):\n",
    "    with open('Datafiles/marks.txt','w') as f:\n",
    "        for i in range (0,n):\n",
    "            r = randint(lb,ub)\n",
    "            f.write(str(r) + '\\n')\n",
    "    return\n",
    "generatemarks(20, 0, 100)"
   ]
  },
  {
   "cell_type": "code",
   "execution_count": 3,
   "metadata": {},
   "outputs": [
    {
     "data": {
      "text/plain": [
       "61.21052631578947"
      ]
     },
     "execution_count": 3,
     "metadata": {},
     "output_type": "execute_result"
    }
   ],
   "source": [
    "def classaverage(filepath):\n",
    "    sum = 0\n",
    "    with open(filepath,'r') as f:\n",
    "        filedata = f.read().split(\"\\n\")\n",
    "        filedata.pop()\n",
    "        l = list(map(int,filedata))\n",
    "        for i in l:\n",
    "            sum = sum + i\n",
    "        return (sum/len(l))\n",
    "filepath ='Datafiles/marks.txt'\n",
    "classaverage(filepath)"
   ]
  },
  {
   "cell_type": "code",
   "execution_count": 1,
   "metadata": {},
   "outputs": [
    {
     "data": {
      "text/plain": [
       "73.6842105263158"
      ]
     },
     "execution_count": 1,
     "metadata": {},
     "output_type": "execute_result"
    }
   ],
   "source": [
    "def passpercentage(filepath):\n",
    "    li = []\n",
    "    with open(filepath,'r') as f:\n",
    "        filedata = f.read().split(\"\\n\")\n",
    "        filedata.pop()\n",
    "        l = list(map(int,filedata))\n",
    "        for i in l:\n",
    "            if i >= 35:\n",
    "                li.append(i)\n",
    "        return((len(li)*100)/(len(l)))\n",
    "filepath ='Datafiles\\marks.txt'\n",
    "passpercentage(filepath)"
   ]
  },
  {
   "cell_type": "code",
   "execution_count": 2,
   "metadata": {},
   "outputs": [
    {
     "data": {
      "text/plain": [
       "26.31578947368421"
      ]
     },
     "execution_count": 2,
     "metadata": {},
     "output_type": "execute_result"
    }
   ],
   "source": [
    "def failpercentage(filepath):\n",
    "    li = []\n",
    "    with open(filepath,'r') as f:\n",
    "        filedata = f.read().split(\"\\n\")\n",
    "        filedata.pop()\n",
    "        l = list(map(int,filedata))\n",
    "        for i in l:\n",
    "            if i <= 35:\n",
    "                li.append(i)\n",
    "        return((len(li)*100)/(len(l)))\n",
    "filepath ='Datafiles\\marks.txt'\n",
    "failpercentage(filepath)"
   ]
  },
  {
   "cell_type": "code",
   "execution_count": null,
   "metadata": {},
   "outputs": [],
   "source": []
  }
 ],
 "metadata": {
  "kernelspec": {
   "display_name": "Python 3",
   "language": "python",
   "name": "python3"
  },
  "language_info": {
   "codemirror_mode": {
    "name": "ipython",
    "version": 3
   },
   "file_extension": ".py",
   "mimetype": "text/x-python",
   "name": "python",
   "nbconvert_exporter": "python",
   "pygments_lexer": "ipython3",
   "version": "3.7.3"
  }
 },
 "nbformat": 4,
 "nbformat_minor": 2
}
