{
 "cells": [
  {
   "cell_type": "code",
   "execution_count": 19,
   "metadata": {},
   "outputs": [],
   "source": [
    "fh = open('book.txt','w')"
   ]
  },
  {
   "cell_type": "code",
   "execution_count": 20,
   "metadata": {},
   "outputs": [
    {
     "data": {
      "text/plain": [
       "12"
      ]
     },
     "execution_count": 20,
     "metadata": {},
     "output_type": "execute_result"
    }
   ],
   "source": [
    "data = \"hi every one\"\n",
    "fh.write(data)"
   ]
  },
  {
   "cell_type": "code",
   "execution_count": 21,
   "metadata": {},
   "outputs": [],
   "source": [
    "fh.close()"
   ]
  },
  {
   "cell_type": "code",
   "execution_count": null,
   "metadata": {},
   "outputs": [],
   "source": []
  },
  {
   "cell_type": "code",
   "execution_count": null,
   "metadata": {},
   "outputs": [],
   "source": []
  },
  {
   "cell_type": "code",
   "execution_count": 22,
   "metadata": {},
   "outputs": [
    {
     "name": "stdout",
     "output_type": "stream",
     "text": [
      "hi every one\n"
     ]
    }
   ],
   "source": [
    "fh = open('book.txt','r')\n",
    "print(fh.read())\n",
    "fh.close()"
   ]
  },
  {
   "cell_type": "markdown",
   "metadata": {},
   "source": [
    "### 22nd june 2019\n",
    "\n",
    "### Day objectives\n",
    "- File Handling \n",
    "    - Basic file data processing\n",
    "        - Accessing and Modifying file data\n",
    "    - Character count \n",
    "    - Line count\n",
    "    - File size\n",
    "    - Word count\n",
    "    - Unique word count"
   ]
  },
  {
   "cell_type": "code",
   "execution_count": 25,
   "metadata": {},
   "outputs": [
    {
     "name": "stdout",
     "output_type": "stream",
     "text": [
      "line2\n",
      "line3line2\n",
      "line3line2\n",
      "line3line2/nline3\n"
     ]
    }
   ],
   "source": [
    "# read a file - file should exist(read mode)\n",
    "# write to a file - existing(append mode) or new file(write mode)\n",
    "def readfile(filepath):\n",
    "    with open(filepath, 'r') as f:\n",
    "        filedata = f.read()\n",
    "        \n",
    "    return filedata\n",
    "filepath = 'Datafiles/data.txt'\n",
    "print(readfile(filepath))"
   ]
  },
  {
   "cell_type": "code",
   "execution_count": 57,
   "metadata": {},
   "outputs": [
    {
     "name": "stdout",
     "output_type": "stream",
     "text": [
      "48 bytes\n",
      "unique words in text= 3\n",
      "spaces = 0 \n",
      " lines = 3 \n",
      " count = 42 \n",
      " words = 1\n",
      "line2\n",
      "line3line2\n",
      "line3line2\n",
      "line3line2/nline3\n"
     ]
    }
   ],
   "source": [
    "# character count,file size,line count,word count,\n",
    "import os\n",
    "\n",
    "def readfile(filepath):\n",
    "    l = []\n",
    "    ul = []\n",
    "    count = 0\n",
    "    with open(filepath,'r') as f:\n",
    "        filedata = f.read()\n",
    "        l = filedata.split()\n",
    "        for word in l:\n",
    "            if not word in ul:\n",
    "                ul.append(word)\n",
    "                count = count+1\n",
    "        print(\"unique words in text=\",count)\n",
    "        s, l, c, w = 0,0,0,0\n",
    "        for i in text:\n",
    "            if (i == \" \"):\n",
    "                s = s+1\n",
    "            elif(i ==\"\\n\"):\n",
    "                l = l+1\n",
    "            else:\n",
    "                c = c+1\n",
    "    w = s+1\n",
    "\n",
    "    print(f\"spaces = {s} \\n lines = {l} \\n count = {c} \\n words = {w}\")\n",
    "    return filedata\n",
    "\n",
    "filepath = 'Datafiles/data.txt'\n",
    "print(os.path.getsize(filepath),\"bytes\")\n",
    "print(readfile(filepath))\n",
    "      \n",
    "    \n",
    "                "
   ]
  },
  {
   "cell_type": "code",
   "execution_count": null,
   "metadata": {},
   "outputs": [],
   "source": [
    "# unique word count"
   ]
  },
  {
   "cell_type": "code",
   "execution_count": 49,
   "metadata": {},
   "outputs": [
    {
     "name": "stdout",
     "output_type": "stream",
     "text": [
      "{'nothing': 1, 'to': 1, 'yet.': 1}\n"
     ]
    }
   ],
   "source": [
    "def wordcount(filepath):\n",
    "    c = dict()\n",
    "    w = filepath.split()\n",
    "\n",
    "    for w in w:\n",
    "        if w in c:\n",
    "            c[w] += 1\n",
    "        else:\n",
    "            c[w] = 1\n",
    "\n",
    "    return c\n",
    "print( wordcount('nothing to yet.'))"
   ]
  },
  {
   "cell_type": "code",
   "execution_count": null,
   "metadata": {},
   "outputs": [],
   "source": [
    "print len(set(w.lower() for w in open('filename.dat').read().split()))"
   ]
  }
 ],
 "metadata": {
  "kernelspec": {
   "display_name": "Python 3",
   "language": "python",
   "name": "python3"
  },
  "language_info": {
   "codemirror_mode": {
    "name": "ipython",
    "version": 3
   },
   "file_extension": ".py",
   "mimetype": "text/x-python",
   "name": "python",
   "nbconvert_exporter": "python",
   "pygments_lexer": "ipython3",
   "version": "3.7.3"
  }
 },
 "nbformat": 4,
 "nbformat_minor": 2
}
