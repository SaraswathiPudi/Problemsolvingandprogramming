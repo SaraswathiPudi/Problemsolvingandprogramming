{
 "cells": [
  {
   "cell_type": "markdown",
   "metadata": {},
   "source": [
    "## 15th june 2019\n",
    "\n",
    "\n",
    "## Day objectives"
   ]
  },
  {
   "cell_type": "code",
   "execution_count": 5,
   "metadata": {},
   "outputs": [
    {
     "name": "stdout",
     "output_type": "stream",
     "text": [
      "3\n"
     ]
    }
   ],
   "source": [
    "# closest zero and print the lesser value\n",
    "li = [-1, -2, 2, 3,1]\n",
    "\n",
    "li.sort()\n",
    "\n",
    "p1 = []\n",
    "\n",
    "for i in li:\n",
    "    p1.append(abs(i))\n",
    "\n",
    "p1.sort()\n",
    "if p1[0] in li:\n",
    "    print(p1[-1])\n",
    "else:\n",
    "    print(-p1[-1])"
   ]
  },
  {
   "cell_type": "markdown",
   "metadata": {},
   "source": [
    "### problem3\n",
    "you are given three numbers a,b and c\n",
    "write a program to find the largest number\n",
    "which is less than or equal to c and leaves\n",
    "remainder b when divided by a."
   ]
  },
  {
   "cell_type": "code",
   "execution_count": 14,
   "metadata": {},
   "outputs": [
    {
     "name": "stdout",
     "output_type": "stream",
     "text": [
      "49\n"
     ]
    }
   ],
   "source": [
    "def maximum(a,b,c):\n",
    "    if(a >= b) and (a >= b):\n",
    "        largest = a\n",
    "    elif(b >= a) and (b >= a):\n",
    "        largest = b\n",
    "    else:\n",
    "        largest = c\n",
    "    return largest\n",
    "a = 10\n",
    "b = 49\n",
    "c = 18\n",
    "print(maximum(a,b,c))"
   ]
  },
  {
   "cell_type": "code",
   "execution_count": 20,
   "metadata": {},
   "outputs": [
    {
     "name": "stdout",
     "output_type": "stream",
     "text": [
      "14\n"
     ]
    }
   ],
   "source": [
    "def maximum(a, b, c):\n",
    "    li = [a, b, c]\n",
    "    return max(li)\n",
    "a = 10\n",
    "b = 14\n",
    "c = 11\n",
    "print(maximum(a, b, c))"
   ]
  },
  {
   "cell_type": "code",
   "execution_count": 27,
   "metadata": {},
   "outputs": [
    {
     "data": {
      "text/plain": [
       "99"
      ]
     },
     "execution_count": 27,
     "metadata": {},
     "output_type": "execute_result"
    }
   ],
   "source": [
    "def largestNumber(a,b,c):\n",
    "    for i in range(c, a-1, -1):\n",
    "        if i % a == 0:\n",
    "            return i\n",
    "    return -1\n",
    "largestNumber(3,2,100)"
   ]
  },
  {
   "cell_type": "code",
   "execution_count": 32,
   "metadata": {},
   "outputs": [
    {
     "name": "stdout",
     "output_type": "stream",
     "text": [
      "4\n",
      "4\n",
      "4\n",
      "4\n",
      "4\n",
      "4\n"
     ]
    }
   ],
   "source": [
    "li = [4, 5, 6, -4, 2, 1]\n",
    "li.sort\n",
    "p1 = []\n",
    "for i in li:\n",
    "    p1.append(abs(i))\n",
    "    p1.sort\n",
    "    if p1[0] in li:\n",
    "        print(p1[0])\n",
    "    else:\n",
    "        print(-p1[-0])\n",
    "     \n",
    "    "
   ]
  },
  {
   "cell_type": "code",
   "execution_count": null,
   "metadata": {},
   "outputs": [],
   "source": []
  }
 ],
 "metadata": {
  "kernelspec": {
   "display_name": "Python 3",
   "language": "python",
   "name": "python3"
  },
  "language_info": {
   "codemirror_mode": {
    "name": "ipython",
    "version": 3
   },
   "file_extension": ".py",
   "mimetype": "text/x-python",
   "name": "python",
   "nbconvert_exporter": "python",
   "pygments_lexer": "ipython3",
   "version": "3.7.3"
  }
 },
 "nbformat": 4,
 "nbformat_minor": 2
}
