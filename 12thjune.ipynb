{
 "cells": [
  {
   "cell_type": "markdown",
   "metadata": {},
   "source": [
    "### problem solving and programming\n",
    "\n",
    "\n",
    "# Date 12 june 2019\n",
    "\n",
    "## day objectives:\n",
    "\n",
    "- string slicing\n",
    "- functions in python\n",
    "- basic problem related to conditional statements using function\n",
    "- python data structures-list tiples and dictionaries\n",
    "- iteration in python\n",
    "- problem set"
   ]
  },
  {
   "cell_type": "code",
   "execution_count": 33,
   "metadata": {},
   "outputs": [
    {
     "data": {
      "text/plain": [
       "'nhy'"
      ]
     },
     "execution_count": 33,
     "metadata": {},
     "output_type": "execute_result"
    }
   ],
   "source": [
    "s1 = \"python\"\n",
    "\n",
    "s1[0] # accessing the first character in a string\n",
    "s1[1] # accessing the second character in a string\n",
    "s1[len(s1)-1] # accessing the last character in a string\n",
    "\n",
    "s1[-1] # another way of accessing the last character\n",
    "\n",
    "s1[-2] # accessing the penultimate character of a string\n",
    "\n",
    "s1[0:2] # accessing the first two characters in a string\n",
    "\n",
    "s1[-2:] # accessing the last two characters in a string\n",
    "#s1[4:]\n",
    "\n",
    "s1[1:-1] # accessing all characters expect first and last character\n",
    "s1[2:-1] # accessing the middle character in a string\n",
    "s1[len(s1)//2] # accessing the middle character in a string\n",
    "\n",
    "s1[-1::-1] # reverse of a string\n",
    "s1[-1:-3:-1] # accessing last two characters in a string\n",
    "s1[len(s1)//-2:len(s1)//2-2:-1]# reverse the middle two character in a even length string\n",
    "\n",
    "# accessing alternate characters in a string\n",
    "# \"python\"  -> \"pto\"\n",
    "s1[::2]\n",
    "\n",
    "\n",
    "# accessing alternate characters of a string in a reverse order\n",
    "# \"python\"  ->\"nhy\"\n",
    "s1[::-2]"
   ]
  },
  {
   "cell_type": "code",
   "execution_count": null,
   "metadata": {},
   "outputs": [],
   "source": []
  },
  {
   "cell_type": "markdown",
   "metadata": {},
   "source": [
    "# Functions"
   ]
  },
  {
   "cell_type": "code",
   "execution_count": 47,
   "metadata": {},
   "outputs": [
    {
     "data": {
      "text/plain": [
       "'nohtyp'"
      ]
     },
     "execution_count": 47,
     "metadata": {},
     "output_type": "execute_result"
    }
   ],
   "source": [
    "#function to reverse a string\n",
    "def reversestring(s):\n",
    "    return s[::-1]\n",
    "\n",
    "reversestring(\"python\")"
   ]
  },
  {
   "cell_type": "code",
   "execution_count": 45,
   "metadata": {},
   "outputs": [
    {
     "data": {
      "text/plain": [
       "True"
      ]
     },
     "execution_count": 45,
     "metadata": {},
     "output_type": "execute_result"
    }
   ],
   "source": [
    "#function to check if string is a palindrome\n",
    "def palindrome(s):\n",
    "    if s == s[::-1]:\n",
    "        return True\n",
    "    else:\n",
    "        return False\n",
    "palindrome(\"s\")    "
   ]
  },
  {
   "cell_type": "code",
   "execution_count": 72,
   "metadata": {},
   "outputs": [
    {
     "data": {
      "text/plain": [
       "True"
      ]
     },
     "execution_count": 72,
     "metadata": {},
     "output_type": "execute_result"
    }
   ],
   "source": [
    "#function to check if a given year is a leap year\n",
    "def isleapyear(year):\n",
    "    if ((year % 400 == 0) or (year % 100 != 0 and year % 4 == 0)):\n",
    "        return True\n",
    "    else:\n",
    "         return False\n",
    "        \n",
    "isleapyear(2020)"
   ]
  },
  {
   "cell_type": "code",
   "execution_count": 73,
   "metadata": {},
   "outputs": [
    {
     "data": {
      "text/plain": [
       "5"
      ]
     },
     "execution_count": 73,
     "metadata": {},
     "output_type": "execute_result"
    }
   ],
   "source": [
    "#functions to count the numbers of digits in a given numbers\n",
    "def countdigits(n):\n",
    "    return len(str(n))\n",
    "countdigits(23456)"
   ]
  },
  {
   "cell_type": "code",
   "execution_count": 79,
   "metadata": {},
   "outputs": [
    {
     "data": {
      "text/plain": [
       "9"
      ]
     },
     "execution_count": 79,
     "metadata": {},
     "output_type": "execute_result"
    }
   ],
   "source": [
    "#functions to identify the greatest of 4 numbers\n",
    "def greatest4(n1,n2,n3,n4):\n",
    "    if n1 > n2 and n1 > n3 and n1 > n4:\n",
    "        return n1\n",
    "    elif n2>n3 and n3>n4:\n",
    "        return n2\n",
    "    elif n3>n4:\n",
    "        return n3\n",
    "    return n4\n",
    "greatest4(4,5,7,9)"
   ]
  },
  {
   "cell_type": "code",
   "execution_count": null,
   "metadata": {},
   "outputs": [],
   "source": []
  },
  {
   "cell_type": "markdown",
   "metadata": {},
   "source": [
    "# Iteration\n",
    "- for\n",
    "- while\n",
    "\n",
    "##### for loop in python\n",
    "-[101,210]-\n",
    "\n",
    "for number in range(101, 211)\n",
    "    print number\n",
    "o/p :-\n",
    "\n",
    "101......210"
   ]
  },
  {
   "cell_type": "code",
   "execution_count": 3,
   "metadata": {},
   "outputs": [
    {
     "name": "stdout",
     "output_type": "stream",
     "text": [
      "123456789101112131415161718192021222324252627282930"
     ]
    }
   ],
   "source": [
    "# function to print n numbers\n",
    "\n",
    "def printNNaturalNumbers(n):\n",
    "    for counter in range(1,n+1):\n",
    "        print(counter,end=\"\")\n",
    "    return\n",
    "    \n",
    "        \n",
    "        \n",
    "       \n",
    "    \n",
    "printNNaturalNumbers(30)"
   ]
  },
  {
   "cell_type": "code",
   "execution_count": 8,
   "metadata": {},
   "outputs": [
    {
     "name": "stdout",
     "output_type": "stream",
     "text": [
      "1234567891011"
     ]
    }
   ],
   "source": [
    "#function to print N Natural numbers using a while loop\n",
    "\n",
    "def nNaturalNumbers(n):\n",
    "    counter = 1\n",
    "    while counter <= n:\n",
    "        print(counter, end = \" \")\n",
    "        counter = counter + 1\n",
    "    return\n",
    "    \n",
    "nNaturalNumbers(11)"
   ]
  },
  {
   "cell_type": "code",
   "execution_count": 4,
   "metadata": {},
   "outputs": [
    {
     "name": "stdout",
     "output_type": "stream",
     "text": [
      "500 506 512 518 524 "
     ]
    }
   ],
   "source": [
    "#function to print the alternate values in a range in the same line\n",
    "#[500, 550] -> 500 502 504 ........ 550\n",
    "#(500, 500) -> 501 503 505 ........ 549\n",
    "#range(500, 550) -> 500 501 502 ...... 549\n",
    "#all set based functions in python have start value inclusive end value is exclusive\n",
    "def alternatevalues(start, end):\n",
    "    for value in range(start, end+1, 6):\n",
    "        print(value, end=\" \")\n",
    "    return\n",
    "\n",
    "alternatevalues(500, 525)"
   ]
  },
  {
   "cell_type": "code",
   "execution_count": 3,
   "metadata": {},
   "outputs": [],
   "source": [
    "#function to print reverse of a given range in the same line\n",
    "def reverserange(start, end):\n",
    "    for value in range(start, end, -1):\n",
    "        print(value, end=\" \")\n",
    "    return\n",
    "\n",
    "reverserange(500, 550)"
   ]
  },
  {
   "cell_type": "code",
   "execution_count": 7,
   "metadata": {},
   "outputs": [
    {
     "data": {
      "text/plain": [
       "'63754'"
      ]
     },
     "execution_count": 7,
     "metadata": {},
     "output_type": "execute_result"
    }
   ],
   "source": [
    "#function to print reverse of a given range in the same line\n",
    "def reversevalue(n):\n",
    "    return n[::-1]\n",
    "\n",
    "reversevalue(\"45736\")"
   ]
  },
  {
   "cell_type": "code",
   "execution_count": 22,
   "metadata": {},
   "outputs": [
    {
     "name": "stdout",
     "output_type": "stream",
     "text": [
      "1 3 5 7 9 "
     ]
    }
   ],
   "source": [
    "#function to print the odd numbers in a reverse oreder in a given range\n",
    "def oddnumbers(start, end):\n",
    "    for value in range(start, end+1,2):\n",
    "        print(value, end=\" \") \n",
    "    return\n",
    "oddnumbers(1, 10)   "
   ]
  },
  {
   "cell_type": "code",
   "execution_count": 10,
   "metadata": {},
   "outputs": [
    {
     "data": {
      "text/plain": [
       "'ihtawsaras'"
      ]
     },
     "execution_count": 10,
     "metadata": {},
     "output_type": "execute_result"
    }
   ],
   "source": [
    "#function to print reverse of a string\n",
    "def reversestring(s):\n",
    "    return s[::-1]\n",
    "\n",
    "reversestring(\"saraswathi\")"
   ]
  },
  {
   "cell_type": "code",
   "execution_count": 21,
   "metadata": {},
   "outputs": [
    {
     "data": {
      "text/plain": [
       "15150"
      ]
     },
     "execution_count": 21,
     "metadata": {},
     "output_type": "execute_result"
    }
   ],
   "source": [
    "#function calculate the sum of numbers in a range\n",
    "def sumrange(start, end):\n",
    "    sum = 0\n",
    "    for i in range(start, end+1):\n",
    "        sum = sum + i\n",
    "    return sum\n",
    "\n",
    "sumrange(100, 200)"
   ]
  },
  {
   "cell_type": "code",
   "execution_count": 2,
   "metadata": {},
   "outputs": [],
   "source": [
    "# function to print all numbers divisible by 6 \n",
    "# and not a factor of 100 in a given range(lb,ub)inclusive\n",
    "def countdivisables(a,c,m):\n",
    "    counter = 0;\n",
    "    \n",
    "    for i in range(a,c):\n",
    "        if (i % m == 0):\n",
    "            counter = counter + 1\n",
    "        return counter\n",
    "    "
   ]
  },
  {
   "cell_type": "code",
   "execution_count": 5,
   "metadata": {},
   "outputs": [
    {
     "data": {
      "text/plain": [
       "129346.88"
      ]
     },
     "execution_count": 5,
     "metadata": {},
     "output_type": "execute_result"
    }
   ],
   "source": [
    "# function to find the average of cubes of all even numbers \n",
    "# in a given range(lb,ub inclusive)\n",
    "def avgcubeseven(lb, ub):\n",
    "    sum = 0\n",
    "    for i in range(lb, ub + 1):\n",
    "        if i % 2 == 0:\n",
    "            sum += i ** 3\n",
    "    return sum/(ub-lb)\n",
    "avgcubeseven(50,75)"
   ]
  },
  {
   "cell_type": "code",
   "execution_count": 51,
   "metadata": {},
   "outputs": [
    {
     "data": {
      "text/plain": [
       "3000.0"
      ]
     },
     "execution_count": 51,
     "metadata": {},
     "output_type": "execute_result"
    }
   ],
   "source": [
    "#function to calculate the average of a given range\n",
    "# (1,5) ->3\n",
    "def avgrange(start, end):\n",
    "    sum = 0\n",
    "    count = 0\n",
    "    for i in range(start, end+1):\n",
    "        sum = sum + i\n",
    "        count = count + 1\n",
    "    return sum/(end-start+1)\n",
    "\n",
    "avgrange(1000, 5000)"
   ]
  },
  {
   "cell_type": "code",
   "execution_count": 84,
   "metadata": {},
   "outputs": [
    {
     "name": "stdout",
     "output_type": "stream",
     "text": [
      "2000 2004 2008 2012 2016 2020 2024 2028 "
     ]
    }
   ],
   "source": [
    "#function to generate the leap year in given time period\n",
    "# 2000 - 2020  -> 2000 2004 2008 2012 2016 2020\n",
    "def isleapyear(year):\n",
    "    if year % 400 == 0 or (year % 100 != 0 and year % 4 == 0):\n",
    "        return True\n",
    "    return False\n",
    "def generateleapyears(startyear, endyear):\n",
    "    for year in range(startyear, endyear+1):\n",
    "        if isleapyear(year):\n",
    "            print(year, end=\" \")\n",
    "    return\n",
    "        \n",
    "generateleapyears(2000,2030)\n",
    "    "
   ]
  },
  {
   "cell_type": "code",
   "execution_count": 82,
   "metadata": {},
   "outputs": [
    {
     "data": {
      "text/plain": [
       "366"
      ]
     },
     "execution_count": 82,
     "metadata": {},
     "output_type": "execute_result"
    }
   ],
   "source": [
    "#function to calculate number of days in a given time period using leap yearlogic\n",
    "#for every year in the given time period,if the year is not a leap year,add 366 to sum\n",
    "def numberofdays(year):\n",
    "    if year % 400 == 0 or (year % 100 != 0 and year % 4 == 0):\n",
    "        return True\n",
    "    return False\n",
    "def timeperiod(n):\n",
    "    sum = 0\n",
    "    if numberofdays(n):\n",
    "        sum = sum + 366\n",
    "        return sum\n",
    "    else:\n",
    "        sum = sum + 365\n",
    "        return sum\n",
    "timeperiod(2016)    \n",
    "        "
   ]
  },
  {
   "cell_type": "code",
   "execution_count": 130,
   "metadata": {},
   "outputs": [
    {
     "data": {
      "text/plain": [
       "4344"
      ]
     },
     "execution_count": 130,
     "metadata": {},
     "output_type": "execute_result"
    }
   ],
   "source": [
    "#function to calculate number of hours for a given period\n",
    "# numberofhours(11,1975,3,1999) ->\n",
    "# numberofhours(5,2019,6,2019)\n",
    "# 2,2017,6,2019\n",
    "# [all days from feb 2016 to dec 2016,all days for years between 2016 to dec 2019,\n",
    "#  all days from jan to june 2019]\n",
    "#no of hours = 24*no of days\n",
    "#3steps\n",
    "  #1.start month year to end of year - calculate no of days\n",
    "  #2.calculate days for all years between start year to end year\n",
    "        #2017,2018-365*no of years\n",
    "  #3. calculate days from end month year\n",
    "# excluding feb\n",
    "#  first six months - 1, 3, 4, 5, 6\n",
    "                      # all odd months have 31 days\n",
    "                      # all even months have 30 days\n",
    "# last six months - 8, 9, 10, 11, 12\n",
    "                    #all even months have 31 days\n",
    "                    #all odd months have 30 days\n",
    "# 31 days - (month <= 7 and month % 2 !=0 and month !=2) // (month >= 8 and month %)\n",
    "#                return 31\n",
    "#            \n",
    "#           else\n",
    "#               return 30\n",
    "def numberofdaysmonth(month, year):\n",
    "    if month == 2:\n",
    "        if isleapyear(year):\n",
    "            return 29\n",
    "        return 28\n",
    "    \n",
    "    elif (month <= 7and month % 2!=0) or (month >=8 and month % 2 != 0):\n",
    "        return 31\n",
    "    else:\n",
    "        return 30\n",
    "    \n",
    "def daysinstartyear(startmonth,startyear):\n",
    "    days =0\n",
    "    for month in range(startmonth,13):\n",
    "        days += numberofdaysmonth(month,startyear)\n",
    "    return days\n",
    "\n",
    "def daysinendyear(endmonth,endyear):\n",
    "    days = 0\n",
    "    for month in range(1, endmonth+1):\n",
    "        days += numberofdaysmonth(month,endyear)\n",
    "    return days\n",
    "\n",
    "def numberofhours(startmonth,startyear,endmonth,endyear):\n",
    "    days = 0\n",
    "    days += daysinstartyear(startmonth,startyear)\n",
    "    days += daysinendyear(endmonth,endyear)\n",
    "    if endyear - startyear == 1:\n",
    "        days += numberofdaysmonth(startyear+1,startyear+1)\n",
    "    elif endyear - startyear > 2:\n",
    "        days += numberofdaysmonth(startyear+1, endyear-1)\n",
    "    return 24 * days\n",
    "numberofhours(11, 1975, 3, 1999)   \n",
    "        "
   ]
  },
  {
   "cell_type": "code",
   "execution_count": 17,
   "metadata": {},
   "outputs": [],
   "source": [
    "# function to generate the list of factors for a given numbers \n",
    "# 12 ->1 2 3 4 5 6 12\n",
    "def factorslist(n):\n",
    "    for i in range(1, n):\n",
    "        "
   ]
  },
  {
   "cell_type": "code",
   "execution_count": 2,
   "metadata": {},
   "outputs": [
    {
     "data": {
      "text/plain": [
       "3628800"
      ]
     },
     "execution_count": 2,
     "metadata": {},
     "output_type": "execute_result"
    }
   ],
   "source": [
    "#function to calculate the factorial of a given number\n",
    "def factorial(n):\n",
    "    fact = 1\n",
    "    for i in range(2,n+1):\n",
    "        fact *= i\n",
    "    return fact\n",
    "    \n",
    "factorial(10)        "
   ]
  },
  {
   "cell_type": "code",
   "execution_count": 5,
   "metadata": {},
   "outputs": [
    {
     "data": {
      "text/plain": [
       "1"
      ]
     },
     "execution_count": 5,
     "metadata": {},
     "output_type": "execute_result"
    }
   ],
   "source": [
    "# function to checking if a given number is prime\n",
    "def isprime(n):\n",
    "    flag = 1\n",
    "    \n",
    "    for i in range(2,n//2):\n",
    "        if n % i == 0:\n",
    "            flag = False\n",
    "        return flag\n",
    "    return flag\n",
    "\n",
    "isprime(17)"
   ]
  },
  {
   "cell_type": "code",
   "execution_count": 9,
   "metadata": {},
   "outputs": [
    {
     "data": {
      "text/plain": [
       "8.6"
      ]
     },
     "execution_count": 9,
     "metadata": {},
     "output_type": "execute_result"
    }
   ],
   "source": [
    "# function to calculate the average first N prime numbers\n",
    "def avgNprimes(n):\n",
    "    primecount = 0\n",
    "    sum = 0\n",
    "    seqcount = 2\n",
    "    while(primecount < n):\n",
    "        if isprime(seqcount):\n",
    "            primecount += 1\n",
    "            sum += seqcount\n",
    "            #print(seqcount)\n",
    "        seqcount += 1\n",
    "    return sum/n\n",
    "\n",
    "avgNprimes(10)"
   ]
  },
  {
   "cell_type": "code",
   "execution_count": 117,
   "metadata": {},
   "outputs": [
    {
     "ename": "SyntaxError",
     "evalue": "invalid syntax (<ipython-input-117-41d6ec6de1c4>, line 7)",
     "output_type": "error",
     "traceback": [
      "\u001b[1;36m  File \u001b[1;32m\"<ipython-input-117-41d6ec6de1c4>\"\u001b[1;36m, line \u001b[1;32m7\u001b[0m\n\u001b[1;33m    sum + = digit ** n\u001b[0m\n\u001b[1;37m          ^\u001b[0m\n\u001b[1;31mSyntaxError\u001b[0m\u001b[1;31m:\u001b[0m invalid syntax\n"
     ]
    }
   ],
   "source": [
    "#calculate the oddamstrong number in a given range\n",
    "def oddnumber(n):\n",
    "    sum = 0\n",
    "    temp = n\n",
    "    while temp > 0:\n",
    "        digit = temp % 10\n",
    "        sum + = digit ** n\n",
    "        temp // =10\n",
    "        if n == sum:\n",
    "            print(n,\"is an armstrong number\")\n",
    "            else:\n",
    "                print(n,\"is not an armstrong number\")\n",
    "        "
   ]
  },
  {
   "cell_type": "code",
   "execution_count": 96,
   "metadata": {},
   "outputs": [
    {
     "ename": "NameError",
     "evalue": "name 'factoriallist' is not defined",
     "output_type": "error",
     "traceback": [
      "\u001b[1;31m---------------------------------------------------------------------------\u001b[0m",
      "\u001b[1;31mNameError\u001b[0m                                 Traceback (most recent call last)",
      "\u001b[1;32m<ipython-input-96-5f3be5d7c585>\u001b[0m in \u001b[0;36m<module>\u001b[1;34m\u001b[0m\n\u001b[0;32m     11\u001b[0m     \u001b[1;32mreturn\u001b[0m\u001b[1;33m\u001b[0m\u001b[1;33m\u001b[0m\u001b[0m\n\u001b[0;32m     12\u001b[0m \u001b[1;33m\u001b[0m\u001b[0m\n\u001b[1;32m---> 13\u001b[1;33m \u001b[0mgenerateperfect\u001b[0m\u001b[1;33m(\u001b[0m\u001b[1;36m1\u001b[0m\u001b[1;33m,\u001b[0m \u001b[1;36m10000\u001b[0m\u001b[1;33m)\u001b[0m\u001b[1;33m\u001b[0m\u001b[1;33m\u001b[0m\u001b[0m\n\u001b[0m",
      "\u001b[1;32m<ipython-input-96-5f3be5d7c585>\u001b[0m in \u001b[0;36mgenerateperfect\u001b[1;34m(lb, ub)\u001b[0m\n\u001b[0;32m      7\u001b[0m \u001b[1;32mdef\u001b[0m \u001b[0mgenerateperfect\u001b[0m\u001b[1;33m(\u001b[0m\u001b[0mlb\u001b[0m\u001b[1;33m,\u001b[0m \u001b[0mub\u001b[0m\u001b[1;33m)\u001b[0m\u001b[1;33m:\u001b[0m\u001b[1;33m\u001b[0m\u001b[1;33m\u001b[0m\u001b[0m\n\u001b[0;32m      8\u001b[0m     \u001b[1;32mfor\u001b[0m \u001b[0mi\u001b[0m \u001b[1;32min\u001b[0m \u001b[0mrange\u001b[0m\u001b[1;33m(\u001b[0m\u001b[0mlb\u001b[0m\u001b[1;33m,\u001b[0m \u001b[0mub\u001b[0m\u001b[1;33m+\u001b[0m\u001b[1;36m1\u001b[0m\u001b[1;33m)\u001b[0m\u001b[1;33m:\u001b[0m\u001b[1;33m\u001b[0m\u001b[1;33m\u001b[0m\u001b[0m\n\u001b[1;32m----> 9\u001b[1;33m         \u001b[1;32mif\u001b[0m \u001b[0misperfect\u001b[0m\u001b[1;33m(\u001b[0m\u001b[0mi\u001b[0m\u001b[1;33m)\u001b[0m\u001b[1;33m:\u001b[0m\u001b[1;33m\u001b[0m\u001b[1;33m\u001b[0m\u001b[0m\n\u001b[0m\u001b[0;32m     10\u001b[0m             \u001b[0mprint\u001b[0m\u001b[1;33m(\u001b[0m\u001b[0mi\u001b[0m\u001b[1;33m,\u001b[0m \u001b[0mend\u001b[0m\u001b[1;33m=\u001b[0m\u001b[1;34m\" \"\u001b[0m\u001b[1;33m)\u001b[0m\u001b[1;33m\u001b[0m\u001b[1;33m\u001b[0m\u001b[0m\n\u001b[0;32m     11\u001b[0m     \u001b[1;32mreturn\u001b[0m\u001b[1;33m\u001b[0m\u001b[1;33m\u001b[0m\u001b[0m\n",
      "\u001b[1;32m<ipython-input-96-5f3be5d7c585>\u001b[0m in \u001b[0;36misperfect\u001b[1;34m(n)\u001b[0m\n\u001b[0;32m      1\u001b[0m \u001b[1;31m# function to generate all perfect numbers in a given ranger\u001b[0m\u001b[1;33m\u001b[0m\u001b[1;33m\u001b[0m\u001b[1;33m\u001b[0m\u001b[0m\n\u001b[0;32m      2\u001b[0m \u001b[1;32mdef\u001b[0m \u001b[0misperfect\u001b[0m\u001b[1;33m(\u001b[0m\u001b[0mn\u001b[0m\u001b[1;33m)\u001b[0m\u001b[1;33m:\u001b[0m\u001b[1;33m\u001b[0m\u001b[1;33m\u001b[0m\u001b[0m\n\u001b[1;32m----> 3\u001b[1;33m     \u001b[1;32mif\u001b[0m \u001b[0mfactoriallist\u001b[0m\u001b[1;33m(\u001b[0m\u001b[0mn\u001b[0m\u001b[1;33m)\u001b[0m \u001b[1;33m==\u001b[0m \u001b[0mn\u001b[0m\u001b[1;33m:\u001b[0m\u001b[1;33m\u001b[0m\u001b[1;33m\u001b[0m\u001b[0m\n\u001b[0m\u001b[0;32m      4\u001b[0m         \u001b[1;32mreturn\u001b[0m \u001b[1;32mTrue\u001b[0m\u001b[1;33m\u001b[0m\u001b[1;33m\u001b[0m\u001b[0m\n\u001b[0;32m      5\u001b[0m     \u001b[1;32mreturn\u001b[0m \u001b[1;32mFalse\u001b[0m\u001b[1;33m\u001b[0m\u001b[1;33m\u001b[0m\u001b[0m\n",
      "\u001b[1;31mNameError\u001b[0m: name 'factoriallist' is not defined"
     ]
    }
   ],
   "source": [
    "# function to generate all perfect numbers in a given ranger\n",
    "def isperfect(n):\n",
    "    if factorslist(n) == n:\n",
    "        return True\n",
    "    return False\n",
    "\n",
    "def generateperfect(lb, ub):\n",
    "    for i in range(lb, ub+1):\n",
    "        if isperfect(i):\n",
    "            print(i, end=\" \")\n",
    "    return\n",
    "            \n",
    "generateperfect(1, 10000)"
   ]
  },
  {
   "cell_type": "code",
   "execution_count": 110,
   "metadata": {},
   "outputs": [
    {
     "data": {
      "text/plain": [
       "False"
      ]
     },
     "execution_count": 110,
     "metadata": {},
     "output_type": "execute_result"
    }
   ],
   "source": [
    "def isperfectNumber(n):\n",
    "    sum=0\n",
    "    for i in range(1, n):\n",
    "        if n % i == 0:\n",
    "            sum = sum + i\n",
    "    if sum == n:\n",
    "        return True\n",
    "    else:\n",
    "        return False\n",
    "            \n",
    "         \n",
    "isperfectNumber(7)                \n",
    "                \n",
    "\n",
    "            \n",
    "            \n",
    "        \n"
   ]
  },
  {
   "cell_type": "code",
   "execution_count": null,
   "metadata": {},
   "outputs": [],
   "source": []
  },
  {
   "cell_type": "markdown",
   "metadata": {},
   "source": [
    "### Problem statements"
   ]
  }
 ],
 "metadata": {
  "kernelspec": {
   "display_name": "Python 3",
   "language": "python",
   "name": "python3"
  },
  "language_info": {
   "codemirror_mode": {
    "name": "ipython",
    "version": 3
   },
   "file_extension": ".py",
   "mimetype": "text/x-python",
   "name": "python",
   "nbconvert_exporter": "python",
   "pygments_lexer": "ipython3",
   "version": "3.7.3"
  }
 },
 "nbformat": 4,
 "nbformat_minor": 2
}
