{
 "cells": [
  {
   "cell_type": "code",
   "execution_count": 1,
   "metadata": {},
   "outputs": [
    {
     "ename": "NameError",
     "evalue": "name 'addcontacts' is not defined",
     "output_type": "error",
     "traceback": [
      "\u001b[1;31m---------------------------------------------------------------------------\u001b[0m",
      "\u001b[1;31mNameError\u001b[0m                                 Traceback (most recent call last)",
      "\u001b[1;32m<ipython-input-1-d2505707796d>\u001b[0m in \u001b[0;36m<module>\u001b[1;34m\u001b[0m\n\u001b[0;32m     11\u001b[0m     \u001b[0mprint\u001b[0m\u001b[1;33m(\u001b[0m\u001b[0mname\u001b[0m\u001b[1;33m,\u001b[0m \u001b[1;34m'added to contacts'\u001b[0m\u001b[1;33m)\u001b[0m\u001b[1;33m\u001b[0m\u001b[1;33m\u001b[0m\u001b[0m\n\u001b[0;32m     12\u001b[0m     \u001b[1;32mreturn\u001b[0m\u001b[1;33m\u001b[0m\u001b[1;33m\u001b[0m\u001b[0m\n\u001b[1;32m---> 13\u001b[1;33m \u001b[0maddcontacts\u001b[0m\u001b[1;33m(\u001b[0m\u001b[1;34m\"name1\"\u001b[0m\u001b[1;33m,\u001b[0m \u001b[1;36m954378434\u001b[0m\u001b[1;33m,\u001b[0m\u001b[1;34m\"name1_123@gmail.com\"\u001b[0m\u001b[1;33m)\u001b[0m\u001b[1;33m\u001b[0m\u001b[1;33m\u001b[0m\u001b[0m\n\u001b[0m",
      "\u001b[1;31mNameError\u001b[0m: name 'addcontacts' is not defined"
     ]
    }
   ],
   "source": [
    "# function to add contacts to contacts text file\n",
    "\n",
    "from packages import validators\n",
    "\n",
    "def addcontact(name,phone,email):\n",
    "    #store data as name,phone,email in the contacts\n",
    "    filename = 'Datafiles/contacts.txt'\n",
    "    with open(filename,'a') as f:\n",
    "        line = name + ',' +str(phone) + ',' + email\n",
    "        f.write(line)\n",
    "    print(name, 'added to contacts')\n",
    "    return\n",
    "addcontacts(\"name1\", 954378434,\"name1_123@gmail.com\")"
   ]
  },
  {
   "cell_type": "code",
   "execution_count": null,
   "metadata": {},
   "outputs": [],
   "source": [
    "filename = 'Datafiles/contacts.txt'\n",
    "def csvtolist(filename):\n",
    "    li = []\n",
    "    with open(filename, 'r') as f:\n",
    "        for line in f:\n",
    "            li.append(line.split(','))\n",
    "    return li\n",
    "csvtolist(filename)\n",
    "\n",
    "def listtofile(li):\n",
    "    s =''\n",
    "    for i in li:\n",
    "        s += s.join(li)\n",
    "    return s\n",
    "li = csvtolist(filename)\n",
    "listtolist(li)"
   ]
  },
  {
   "cell_type": "code",
   "execution_count": null,
   "metadata": {},
   "outputs": [],
   "source": []
  },
  {
   "cell_type": "code",
   "execution_count": 2,
   "metadata": {},
   "outputs": [
    {
     "name": "stdout",
     "output_type": "stream",
     "text": [
      "34\n",
      "Motu\n"
     ]
    }
   ],
   "source": [
    "def bricks(n):\n",
    "    count = 0\n",
    "    Patlu = 0\n",
    "    Motu = 0\n",
    "    for i in range(1, n+1):\n",
    "        if (count < n):\n",
    "            Patlu = Patlu + 1\n",
    "            count = count + 1\n",
    "            if (count >= n):\n",
    "                print(\"Patlu\")\n",
    "                break\n",
    "            else:\n",
    "                Motu = i*2\n",
    "                count = count + Motu\n",
    "                if (count >= n):\n",
    "                    print(\"Motu\")\n",
    "                    break\n",
    "    \n",
    "n = int(input())\n",
    "bricks(n)"
   ]
  },
  {
   "cell_type": "code",
   "execution_count": 3,
   "metadata": {},
   "outputs": [
    {
     "name": "stdout",
     "output_type": "stream",
     "text": [
      "12X345-67\n",
      "invalid\n"
     ]
    }
   ],
   "source": [
    "s=input()\n",
    "a=list(s)\n",
    "l=len(s)\n",
    "for i in range(l):\n",
    "    if((int(a[0]+a[1])%2==0) and (int(a[3]+a[4])%2==0) and (int(a[4]+a[5])%2==0) and (int(a[7]+a[8])%2==0)):\n",
    "        if(a[2]=='A' or a[2]=='E'or a[2]=='I' or a[2]=='O' or a[2]=='U' or a[2]=='Y'):\n",
    "            print(\"invalid\")\n",
    "        else:\n",
    "            print(\"valid\")\n",
    "                \n",
    "print(\"invalid\")\n"
   ]
  },
  {
   "cell_type": "code",
   "execution_count": 5,
   "metadata": {},
   "outputs": [
    {
     "name": "stdout",
     "output_type": "stream",
     "text": [
      "12X345-67\n",
      "invalid\n"
     ]
    }
   ],
   "source": [
    "a = input()\n",
    "if((ord(a[0])+ord(a[1]))%2==0 and (ord(a[3])+ord(a[4]))%2==0 and (ord(a[5])+ord(a[4]))%2==0 and (ord(a[7])+ord(a[8]))%2==0 and a[2] not in (\"A\",\"E\",\"I\",\"O\",\"U\",\"Y\")):\n",
    "    print(\"valid\")\n",
    "else:\n",
    "    print(\"invalid\")"
   ]
  },
  {
   "cell_type": "code",
   "execution_count": 4,
   "metadata": {},
   "outputs": [
    {
     "name": "stdout",
     "output_type": "stream",
     "text": [
      "1401601499\n",
      "253\n",
      "Legal ISBN\n"
     ]
    }
   ],
   "source": [
    "def specialbook(s):\n",
    "    ans=sum=0\n",
    "    if(len(s)==10):\n",
    "        c=1\n",
    "        for i in s:\n",
    "            sum=sum+(c*int(i))\n",
    "            c=c+1\n",
    "        print(sum)\n",
    "        if(ans%11==0):\n",
    "            print(\"Legal ISBN\")\n",
    "        else:\n",
    "            print(\"Illegal ISBN\")\n",
    "            \n",
    "    else:\n",
    "        print(\"Illegal ISBN\")\n",
    "\n",
    "s = input()\n",
    "specialbook(s)"
   ]
  },
  {
   "cell_type": "code",
   "execution_count": null,
   "metadata": {},
   "outputs": [],
   "source": []
  }
 ],
 "metadata": {
  "kernelspec": {
   "display_name": "Python 3",
   "language": "python",
   "name": "python3"
  },
  "language_info": {
   "codemirror_mode": {
    "name": "ipython",
    "version": 3
   },
   "file_extension": ".py",
   "mimetype": "text/x-python",
   "name": "python",
   "nbconvert_exporter": "python",
   "pygments_lexer": "ipython3",
   "version": "3.7.3"
  }
 },
 "nbformat": 4,
 "nbformat_minor": 2
}
