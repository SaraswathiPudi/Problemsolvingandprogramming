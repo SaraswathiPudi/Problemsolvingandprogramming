{
 "cells": [
  {
   "cell_type": "code",
   "execution_count": 8,
   "metadata": {},
   "outputs": [
    {
     "name": "stdout",
     "output_type": "stream",
     "text": [
      "{'Games': 3862, 'Productivity': 178, 'Weather': 72, 'Shopping': 122, 'Reference': 64, 'Finance': 104, 'Music': 138, 'Utilities': 248, 'Travel': 81, 'Social Networking': 167, 'Sports': 114, 'Business': 57, 'Health & Fitness': 180, 'Entertainment': 535, 'Photo & Video': 349, 'Navigation': 46, 'Education': 453, 'Lifestyle': 144, 'Food & Drink': 63, 'News': 75, 'Book': 112, 'Medical': 23, 'Catalogs': 10}\n"
     ]
    },
    {
     "data": {
      "text/plain": [
       "'Catalogs'"
      ]
     },
     "execution_count": 8,
     "metadata": {},
     "output_type": "execute_result"
    }
   ],
   "source": [
    "# category with lowest number of apps\n",
    "def categoryWithLowestApps(df):\n",
    "    \n",
    "    app_cat_count_dic = CategoryWithCountDict(df)\n",
    "    \n",
    "    freq = app_cat_count_dic.values()\n",
    "    \n",
    "    print(app_cat_count_dic)\n",
    "    \n",
    "    max_freq = min(freq)\n",
    "    \n",
    "    for item in app_cat_count_dic.items():\n",
    "        if item[1] == max_freq:\n",
    "            return item[0]\n",
    "\n",
    "categoryWithLowestApps(Storedf)"
   ]
  },
  {
   "cell_type": "code",
   "execution_count": 12,
   "metadata": {},
   "outputs": [
    {
     "name": "stdout",
     "output_type": "stream",
     "text": [
      "{'Games': 3.6850077679958573, 'Productivity': 4.00561797752809, 'Weather': 3.5972222222222223, 'Shopping': 3.540983606557377, 'Reference': 3.453125, 'Finance': 2.4326923076923075, 'Music': 3.9782608695652173, 'Utilities': 3.278225806451613, 'Travel': 3.376543209876543, 'Social Networking': 2.9850299401197606, 'Sports': 2.982456140350877, 'Business': 3.745614035087719, 'Health & Fitness': 3.7, 'Entertainment': 3.2467289719626167, 'Photo & Video': 3.8008595988538683, 'Navigation': 2.6847826086956523, 'Education': 3.376379690949227, 'Lifestyle': 2.8055555555555554, 'Food & Drink': 3.1825396825396823, 'News': 2.98, 'Book': 2.4776785714285716, 'Medical': 3.369565217391304, 'Catalogs': 2.1}\n"
     ]
    },
    {
     "data": {
      "text/plain": [
       "'Productivity'"
      ]
     },
     "execution_count": 12,
     "metadata": {},
     "output_type": "execute_result"
    }
   ],
   "source": [
    "# category with highest user rating\n",
    "def highestUserRatingCategory(df):\n",
    "    \n",
    "    cat_index = getColumnIndex(Storedf,'prime_genre')\n",
    "    user_rating_index = getColumnIndex(Storedf,'user_rating')\n",
    "    category_rating_dic = {}\n",
    "    \n",
    "    for row in df.values:\n",
    "        if row[cat_index] not in category_rating_dic:\n",
    "            category_rating_dic[row[cat_index]] = row[user_rating_index]\n",
    "        else:\n",
    "            category_rating_dic[row[cat_index]] += row[user_rating_index]\n",
    "    \n",
    "    # Getting dictionary where in we can get the categories and their count.\n",
    "    app_cat_count_dic = CategoryWithCountDict(df)\n",
    "    \n",
    "    # Getting list of values ---> sum of all the user ratings for each and every category.\n",
    "    sum_of_user_rating = list(category_rating_dic.values())\n",
    "    \n",
    "    # Getting list of values ---> Count of each and every category\n",
    "    count_of_cat = list(app_cat_count_dic.values())\n",
    "    \n",
    "    # Getting list of values ---> Names of each and every category\n",
    "    cat_names = list(category_rating_dic.keys())\n",
    "    \n",
    "    # getting average of user rating for each and every category\n",
    "    for i in range(len(sum_of_user_rating)):\n",
    "        category_rating_dic[cat_names[i]] = (sum_of_user_rating[i] / count_of_cat[i])\n",
    "    \n",
    "    print(category_rating_dic)\n",
    "    \n",
    "    high_rating_list = list(category_rating_dic.values())\n",
    "    \n",
    "    high_rating = max(high_rating_list)\n",
    "\n",
    "    for item in category_rating_dic.items():\n",
    "        if item[1] == high_rating:\n",
    "            return item[0]\n",
    "    \n",
    "highestUserRatingCategory(Storedf)\n"
   ]
  },
  {
   "cell_type": "code",
   "execution_count": 9,
   "metadata": {},
   "outputs": [
    {
     "data": {
      "text/plain": [
       "'Facebook'"
      ]
     },
     "execution_count": 9,
     "metadata": {},
     "output_type": "execute_result"
    }
   ],
   "source": [
    "# app with highest downloads\n",
    "def apphighdownloads(df):\n",
    "    \n",
    "    app_cl_index = getColumnIndex(df,'track_name')\n",
    "    \n",
    "    tot_user_rating_index = getColumnIndex(df,'rating_count_tot')\n",
    "    \n",
    "    apps_downloads = {}\n",
    "    \n",
    "    for row in df.values:\n",
    "        apps_downloads[row[app_cl_index]] = row[tot_user_rating_index]\n",
    "\n",
    "    max_downloads = max(apps_downloads.values())\n",
    "\n",
    "    for item in apps_downloads.items():\n",
    "        if item[1] == max_downloads:\n",
    "            return item[0]\n",
    "    \n",
    "apphighdownloads(Storedf)"
   ]
  },
  {
   "cell_type": "code",
   "execution_count": 13,
   "metadata": {},
   "outputs": [
    {
     "name": "stdout",
     "output_type": "stream",
     "text": [
      "{'Games': 3.9049844236760123, 'Utilities': 3.1402877697841727, 'Reference': 3.522727272727273, 'Business': 3.8783783783783785, 'Music': 4.014084507042254, 'Weather': 3.8536585365853657, 'Health & Fitness': 3.7884615384615383, 'Entertainment': 3.41044776119403, 'Photo & Video': 3.8076923076923075, 'Navigation': 3.0576923076923075, 'Education': 3.3317757009345796, 'Lifestyle': 3.21, 'Finance': 3.325, 'Productivity': 4.030172413793103, 'Travel': 3.38, 'Food & Drink': 3.5, 'Sports': 3.1285714285714286, 'Medical': 3.6333333333333333, 'News': 3.323529411764706, 'Shopping': 4.5, 'Book': 3.739130434782609, 'Social Networking': 2.9166666666666665, 'Catalogs': 4.5}\n",
      "Shopping Catalogs "
     ]
    }
   ],
   "source": [
    "# category with highest average rating count\n",
    "def highAvgUserRatingCat(df):\n",
    "    \n",
    "    price_cl_index = getColumnIndex(df,'price')\n",
    "    \n",
    "    user_rating_cl_index = getColumnIndex(df,'user_rating')\n",
    "    \n",
    "    cat_cl_index = getColumnIndex(df,'prime_genre')\n",
    "    \n",
    "    paid_cat_usr_rating_dic = {}\n",
    " \n",
    "    paid_cate_count_dic = {}\n",
    "\n",
    "    for row in df.values:\n",
    "        if row[price_cl_index] != 0: \n",
    "            if row[cat_cl_index] not in paid_cat_usr_rating_dic:\n",
    "                paid_cate_count_dic[row[cat_cl_index]] = 1\n",
    "                paid_cat_usr_rating_dic[row[cat_cl_index]] = row[user_rating_cl_index]\n",
    "            else:\n",
    "                paid_cate_count_dic[row[cat_cl_index]] += 1\n",
    "                paid_cat_usr_rating_dic[row[cat_cl_index]] += row[user_rating_cl_index]\n",
    "\n",
    "    list_of_sums = list(paid_cat_usr_rating_dic.values())\n",
    "    \n",
    "    \n",
    "    list_of_counts = list(paid_cate_count_dic.values())\n",
    "    \n",
    "    cat_names_list = list(paid_cate_count_dic.keys())\n",
    "\n",
    "    paid_cat_avg_rat_dic = {}\n",
    "    \n",
    "    for i in range(len(list_of_sums)):\n",
    "        paid_cat_avg_rat_dic[cat_names_list[i]] = (list_of_sums[i]/list_of_counts[i])\n",
    "        \n",
    "    print(paid_cat_avg_rat_dic)\n",
    "    \n",
    "    high_usr_rating_paid_apps = max(paid_cat_avg_rat_dic.values())\n",
    "    \n",
    "    for item in paid_cat_avg_rat_dic.items():\n",
    "        if item[1] == high_usr_rating_paid_apps:\n",
    "            print(item[0],end =' ')\n",
    "        \n",
    "    \n",
    "highAvgUserRatingCat(Storedf)"
   ]
  },
  {
   "cell_type": "code",
   "execution_count": 14,
   "metadata": {},
   "outputs": [
    {
     "name": "stdout",
     "output_type": "stream",
     "text": [
      "sum of user ratings for free apps: 13696.0\n"
     ]
    },
    {
     "data": {
      "text/plain": [
       "3.3767258382642997"
      ]
     },
     "execution_count": 14,
     "metadata": {},
     "output_type": "execute_result"
    }
   ],
   "source": [
    "## Average user rating for free apps\n",
    "\n",
    "def freeAppsAverageUserRating(df):\n",
    "    \n",
    "    price_cl_index = getColumnIndex(df,'price')\n",
    "    \n",
    "    user_rating_cl_index = getColumnIndex(df,'user_rating')\n",
    "    \n",
    "    free_apps_list_rating = {}\n",
    "    \n",
    "    sum = 0\n",
    "    \n",
    "    c = 0\n",
    "    \n",
    "    for row in df.values:\n",
    "        if row[price_cl_index] == 0.0:\n",
    "            sum += row[user_rating_cl_index]\n",
    "            c += 1\n",
    "    print('sum of user ratings for free apps:',sum)\n",
    "    \n",
    "    return (sum/c)\n",
    "            \n",
    "freeAppsAverageUserRating(Storedf)"
   ]
  },
  {
   "cell_type": "code",
   "execution_count": 15,
   "metadata": {},
   "outputs": [
    {
     "name": "stdout",
     "output_type": "stream",
     "text": [
      "sum of user ratings for paid apps: 11687.5\n"
     ]
    },
    {
     "data": {
      "text/plain": [
       "3.720948742438714"
      ]
     },
     "execution_count": 15,
     "metadata": {},
     "output_type": "execute_result"
    }
   ],
   "source": [
    "## Average user rating for paid apps\n",
    "def paidAppsAverageUserRating(df):\n",
    "    \n",
    "    price_cl_index = getColumnIndex(df,'price')\n",
    "    \n",
    "    user_rating_cl_index = getColumnIndex(df,'user_rating')\n",
    "    \n",
    "    sum = 0\n",
    "    \n",
    "    c = 0\n",
    "    \n",
    "    for row in df.values:\n",
    "        if row[price_cl_index] != 0.0:\n",
    "            sum += row[user_rating_cl_index]\n",
    "            c += 1\n",
    "    print('sum of user ratings for paid apps:',sum)\n",
    "    \n",
    "    return (sum/c)\n",
    "            \n",
    "paidAppsAverageUserRating(Storedf)"
   ]
  },
  {
   "cell_type": "code",
   "execution_count": 16,
   "metadata": {},
   "outputs": [
    {
     "name": "stdout",
     "output_type": "stream",
     "text": [
      "{3.99: 277, 0.99: 728, 9.99: 81, 4.99: 394, 7.99: 33, 2.99: 683, 1.99: 621, 5.99: 52, 12.99: 5, 21.99: 1, 249.99: 1, 6.99: 166, 74.99: 1, 19.99: 13, 8.99: 9, 24.99: 8, 13.99: 6, 14.99: 21, 16.99: 2, 47.99: 1, 11.99: 6, 59.99: 3, 15.99: 4, 27.99: 2, 17.99: 3, 299.99: 1, 49.99: 2, 23.99: 2, 20.99: 2, 39.99: 2, 99.99: 1, 29.99: 6, 34.99: 1, 18.99: 1, 22.99: 2}\n"
     ]
    },
    {
     "data": {
      "text/plain": [
       "0.99"
      ]
     },
     "execution_count": 16,
     "metadata": {},
     "output_type": "execute_result"
    }
   ],
   "source": [
    "## Most frequent Price point greater than zero\n",
    "\n",
    "def mostFrequentPricePoint(df):\n",
    "    \n",
    "    price_cl_index = getColumnIndex(df,'price')\n",
    "    \n",
    "    paid_price_freq = {}\n",
    "    \n",
    "    \n",
    "    for row in df.values:\n",
    "        if row[price_cl_index] != 0:\n",
    "            if row[price_cl_index] not in paid_price_freq:\n",
    "                paid_price_freq[row[price_cl_index]] = 1\n",
    "            else:\n",
    "                paid_price_freq[row[price_cl_index]] += 1\n",
    "                \n",
    "    print(paid_price_freq)\n",
    "    \n",
    "    high_freq_price_point = max(paid_price_freq.values())\n",
    "            \n",
    "    for item in paid_price_freq.items():\n",
    "        if item[1] == high_freq_price_point:\n",
    "            return item[0]\n",
    "        \n",
    "mostFrequentPricePoint(Storedf)"
   ]
  },
  {
   "cell_type": "code",
   "execution_count": 17,
   "metadata": {},
   "outputs": [
    {
     "name": "stdout",
     "output_type": "stream",
     "text": [
      "average user rating for paid gaming apps ---> 3.9049844236760123\n",
      "average user rating for free gaming apps ---> 3.5285777580859548\n"
     ]
    }
   ],
   "source": [
    "## Compare average user rating for paid vs free gaming apps. Print both\n",
    "\n",
    "def avgUsrRatingPaidApps(df):\n",
    "    \n",
    "    price_cl_index = getColumnIndex(df,'price')\n",
    "    \n",
    "    user_rating_cl_index = getColumnIndex(df,'user_rating')\n",
    "    \n",
    "    cat_cl_index = getColumnIndex(df,'prime_genre')\n",
    "    \n",
    "    paid_games_dic = {}\n",
    "\n",
    "    sum_tot_paid = 0\n",
    "    c_paid = 0\n",
    "    \n",
    "    for row in df.values:\n",
    "        if row[price_cl_index] != 0:\n",
    "            if row[cat_cl_index] == 'Games':\n",
    "                sum_tot_paid+= row[user_rating_cl_index]\n",
    "                c_paid += 1\n",
    "    print('average user rating for paid gaming apps --->',sum_tot_paid/c_paid)\n",
    "    \n",
    "    sum_tot_free = 0\n",
    "    c_free = 0\n",
    "    \n",
    "    for row in df.values:\n",
    "        if row[price_cl_index] == 0:\n",
    "            if row[cat_cl_index] == 'Games':\n",
    "                sum_tot_free+= row[user_rating_cl_index]\n",
    "                c_free += 1\n",
    "    print('average user rating for free gaming apps --->',sum_tot_free/c_free)\n",
    "    \n",
    "\n",
    "avgUsrRatingPaidApps(Storedf)"
   ]
  },
  {
   "cell_type": "code",
   "execution_count": null,
   "metadata": {},
   "outputs": [],
   "source": []
  }
 ],
 "metadata": {
  "kernelspec": {
   "display_name": "Python 3",
   "language": "python",
   "name": "python3"
  },
  "language_info": {
   "codemirror_mode": {
    "name": "ipython",
    "version": 3
   },
   "file_extension": ".py",
   "mimetype": "text/x-python",
   "name": "python",
   "nbconvert_exporter": "python",
   "pygments_lexer": "ipython3",
   "version": "3.7.3"
  }
 },
 "nbformat": 4,
 "nbformat_minor": 2
}
