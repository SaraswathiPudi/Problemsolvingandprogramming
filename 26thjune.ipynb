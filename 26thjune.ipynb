{
 "cells": [
  {
   "cell_type": "code",
   "execution_count": 1,
   "metadata": {},
   "outputs": [
    {
     "data": {
      "text/plain": [
       "73.6842105263158"
      ]
     },
     "execution_count": 1,
     "metadata": {},
     "output_type": "execute_result"
    }
   ],
   "source": [
    "def passpercentage(filepath):\n",
    "    li = []\n",
    "    with open(filepath,'r') as f:\n",
    "        filedata = f.read().split(\"\\n\")\n",
    "        filedata.pop()\n",
    "        l = list(map(int,filedata))\n",
    "        for i in l:\n",
    "            if i >= 35:\n",
    "                li.append(i)\n",
    "        return((len(li)*100)/(len(l)))\n",
    "filepath ='Datafiles\\marks.txt'\n",
    "passpercentage(filepath)\n"
   ]
  },
  {
   "cell_type": "code",
   "execution_count": 2,
   "metadata": {},
   "outputs": [
    {
     "data": {
      "text/plain": [
       "26.31578947368421"
      ]
     },
     "execution_count": 2,
     "metadata": {},
     "output_type": "execute_result"
    }
   ],
   "source": [
    "def failpercentage(filepath):\n",
    "    li = []\n",
    "    with open(filepath,'r') as f:\n",
    "        filedata = f.read().split(\"\\n\")\n",
    "        filedata.pop()\n",
    "        l = list(map(int,filedata))\n",
    "        for i in l:\n",
    "            if i <= 35:\n",
    "                li.append(i)\n",
    "        return((len(li)*100)/(len(l)))\n",
    "filepath ='Datafiles\\marks.txt'\n",
    "failpercentage(filepath)"
   ]
  },
  {
   "cell_type": "code",
   "execution_count": 3,
   "metadata": {},
   "outputs": [
    {
     "data": {
      "text/plain": [
       "47.36842105263158"
      ]
     },
     "execution_count": 3,
     "metadata": {},
     "output_type": "execute_result"
    }
   ],
   "source": [
    "def distinction(filepath):\n",
    "    li = []\n",
    "    with open(filepath,'r') as f:\n",
    "        filedata = f.read().split(\"\\n\")\n",
    "        filedata.pop()\n",
    "        l = list(map(int,filedata))\n",
    "        for i in l:\n",
    "            if i >= 75:\n",
    "                li.append(i)\n",
    "        return((len(li)*100)/(len(l)))\n",
    "filepath ='Datafiles\\marks.txt'\n",
    "distinction(filepath)"
   ]
  },
  {
   "cell_type": "code",
   "execution_count": 4,
   "metadata": {},
   "outputs": [
    {
     "data": {
      "text/plain": [
       "7"
      ]
     },
     "execution_count": 4,
     "metadata": {},
     "output_type": "execute_result"
    }
   ],
   "source": [
    "# function to find the second largest number in their list\n",
    "\n",
    "def secondlargest(li):\n",
    "    # convert the list into a unique list\n",
    "    unique = []\n",
    "    for n in li:\n",
    "        if n not in unique:\n",
    "            unique.append(n)\n",
    "    unique = sorted(unique,reverse=True)\n",
    "    return unique[1]\n",
    "secondlargest([1,2,3,4,5,6,7,1,2,8,8])\n",
    "\n",
    "#def fifthlargest(li)\n",
    "def fifthlargest(li):\n",
    "    unique = []\n",
    "    for n in li:\n",
    "        if n not in unique:\n",
    "            unique.append(n)\n",
    "    unique = sorted(unique)\n",
    "    return unique[5]\n",
    "fifthlargest([1,2,3,5,6,6,7])"
   ]
  },
  {
   "cell_type": "code",
   "execution_count": 5,
   "metadata": {},
   "outputs": [
    {
     "data": {
      "text/plain": [
       "1"
      ]
     },
     "execution_count": 5,
     "metadata": {},
     "output_type": "execute_result"
    }
   ],
   "source": [
    "#def klargest(li)\n",
    "def klargest(li,k):\n",
    "    unique = []\n",
    "    for i in li:\n",
    "        if i not in unique:\n",
    "            unique.append(i)\n",
    "    unique = sorted(unique)\n",
    "    if len(unique) >= k:\n",
    "         unique[k+1]\n",
    "    return 1\n",
    "klargest([3,3,9],5)"
   ]
  },
  {
   "cell_type": "code",
   "execution_count": 6,
   "metadata": {},
   "outputs": [
    {
     "data": {
      "text/plain": [
       "3"
      ]
     },
     "execution_count": 6,
     "metadata": {},
     "output_type": "execute_result"
    }
   ],
   "source": [
    "#def ksmallest(li)\n",
    "def ksmalest(li,k):\n",
    "    unique = []\n",
    "    for i in li:\n",
    "        if i not in unique:\n",
    "            unique.append(i)\n",
    "    unique = sorted(unique)\n",
    "    if len(unique) >= k:\n",
    "        return unique[k-1]\n",
    "    return -1\n",
    "ksmalest([3,3,9],1)"
   ]
  },
  {
   "cell_type": "code",
   "execution_count": 7,
   "metadata": {},
   "outputs": [
    {
     "data": {
      "text/plain": [
       "1"
      ]
     },
     "execution_count": 7,
     "metadata": {},
     "output_type": "execute_result"
    }
   ],
   "source": [
    "# function to identify the hightest frequency in a list\n",
    "# if many elements have the hightest frequency\n",
    "# hightestfrequencyelement([1,2,3,9,8,7,3,4,2,1])\n",
    "\n",
    "def highestfrequencyelement(li):\n",
    "    unique = {}\n",
    "    for n in li:\n",
    "        if n in unique:\n",
    "            unique[n] += 1\n",
    "        else:\n",
    "            unique[n] = 1\n",
    "    # getting all frequencies into a list\n",
    "    freq = unique.values()\n",
    "    maxfreq = max(freq)\n",
    "    maxfreqE = []\n",
    "    # identify the smallest number with maximum frequency\n",
    "    for item in unique.items():\n",
    "        if item[1] == maxfreq:\n",
    "            maxfreqE.append(item[0])\n",
    "    # select the minimum from the keys with maximum from\n",
    "    return min(maxfreqE)\n",
    "        \n",
    "highestfrequencyelement([1,2,3,9,8,7,3,4,2,1])        "
   ]
  },
  {
   "cell_type": "code",
   "execution_count": 8,
   "metadata": {},
   "outputs": [
    {
     "data": {
      "text/plain": [
       "3"
      ]
     },
     "execution_count": 8,
     "metadata": {},
     "output_type": "execute_result"
    }
   ],
   "source": [
    "# identify the second hightest frequency element.\n",
    "# if there are many such elements,return the smallest element\n",
    "# [1,2,3,2,1,4,4,9] -> 3\n",
    "def secondhighestfrequencyelement(li):\n",
    "    unique = {}\n",
    "    for n in li:\n",
    "        if n in unique:\n",
    "            unique[n] += 1\n",
    "        else:\n",
    "            unique[n] = 1\n",
    "    # getting all frequencies into a list\n",
    "    freq = unique.values()\n",
    "    minfreq = min(freq)\n",
    "    minfreqE = []\n",
    "    # identify the smallest number with maximum frequency\n",
    "    for item in unique.items():\n",
    "        if item[1] == minfreq:\n",
    "            minfreqE.append(item[0])\n",
    "    # select the minimum from the keys with maximum from\n",
    "    minfreqE = sorted(minfreqE)\n",
    "    return min(minfreqE)\n",
    "        \n",
    "secondhighestfrequencyelement([1,2,3,2,1,4,4,9])   "
   ]
  },
  {
   "cell_type": "code",
   "execution_count": 9,
   "metadata": {},
   "outputs": [
    {
     "data": {
      "text/plain": [
       "[9]"
      ]
     },
     "execution_count": 9,
     "metadata": {},
     "output_type": "execute_result"
    }
   ],
   "source": [
    "#([9,8,7,6,5,2,3,4,9,6,7,7,7,6,7,6],3)\n",
    "def khighestfrequency(s,k):\n",
    "    # unique characters with frequencies\n",
    "    unique = {}\n",
    "    for c in s:\n",
    "        if c not in unique:\n",
    "            unique[c] = 1\n",
    "        else:\n",
    "            unique[c] += 1\n",
    "    # unique = {9:2, 8:1, 7:5, 6:4, 5:1, 4:1, 3:1, 2:1}\n",
    "    uniquefreq = []\n",
    "    for value in unique.values():\n",
    "        if value not in uniquefreq:\n",
    "            uniquefreq.append(value)\n",
    "    uniquefreq = sorted(uniquefreq,reverse=True)\n",
    "    kfreq = uniquefreq[k-1]\n",
    "    kfreqchar = []\n",
    "    for item in unique.items():\n",
    "        if item[1] == kfreq:\n",
    "            kfreqchar.append(item[0])\n",
    "    return kfreqchar\n",
    "khighestfrequency([9,8,7,6,5,2,3,4,9,6,7,7,7,6,7,6],3)"
   ]
  },
  {
   "cell_type": "code",
   "execution_count": 10,
   "metadata": {},
   "outputs": [
    {
     "data": {
      "text/plain": [
       "[6]"
      ]
     },
     "execution_count": 10,
     "metadata": {},
     "output_type": "execute_result"
    }
   ],
   "source": [
    "def klowestfrequency(s,k):\n",
    "    # unique characters with frequencies\n",
    "    unique = {}\n",
    "    for c in s:\n",
    "        if c not in unique:\n",
    "            unique[c] = 1\n",
    "        else:\n",
    "            unique[c] += 1\n",
    "    # unique = {9:2, 8:1, 7:5, 6:4, 5:1, 4:1, 3:1, 2:1}\n",
    "    uniquefreq = []\n",
    "    for value in unique.values():\n",
    "        if value not in uniquefreq:\n",
    "            uniquefreq.append(value)\n",
    "    uniquefreq = sorted(uniquefreq,reverse=True)\n",
    "    kfreq = uniquefreq[k-2]\n",
    "    kfreqchar = []\n",
    "    for item in unique.items():\n",
    "        if item[1] == kfreq:\n",
    "            kfreqchar.append(item[0])\n",
    "    return kfreqchar\n",
    "klowestfrequency([9,8,7,6,5,2,3,4,9,6,7,7,7,6,7,6],3)"
   ]
  },
  {
   "cell_type": "code",
   "execution_count": null,
   "metadata": {},
   "outputs": [],
   "source": []
  }
 ],
 "metadata": {
  "kernelspec": {
   "display_name": "Python 3",
   "language": "python",
   "name": "python3"
  },
  "language_info": {
   "codemirror_mode": {
    "name": "ipython",
    "version": 3
   },
   "file_extension": ".py",
   "mimetype": "text/x-python",
   "name": "python",
   "nbconvert_exporter": "python",
   "pygments_lexer": "ipython3",
   "version": "3.7.3"
  }
 },
 "nbformat": 4,
 "nbformat_minor": 2
}
